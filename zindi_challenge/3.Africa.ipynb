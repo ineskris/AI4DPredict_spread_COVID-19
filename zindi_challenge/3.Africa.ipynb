{
 "cells": [
  {
   "cell_type": "markdown",
   "metadata": {},
   "source": [
    "### Africa"
   ]
  },
  {
   "cell_type": "code",
   "execution_count": 202,
   "metadata": {},
   "outputs": [],
   "source": [
    "import pandas as pd\n",
    "import seaborn as sns\n",
    "import matplotlib as plt "
   ]
  },
  {
   "cell_type": "code",
   "execution_count": 203,
   "metadata": {},
   "outputs": [
    {
     "data": {
      "text/plain": [
       "(274, 84)"
      ]
     },
     "execution_count": 203,
     "metadata": {},
     "output_type": "execute_result"
    }
   ],
   "source": [
    "#Read train \n",
    "deaths = pd.read_csv('data/deaths.csv')\n",
    "cases = pd.read_csv('data/cases.csv')\n",
    "deaths.drop(['Province/State'], axis=True)\n",
    "deaths.shape"
   ]
  },
  {
   "cell_type": "code",
   "execution_count": 204,
   "metadata": {},
   "outputs": [
    {
     "data": {
      "text/plain": [
       "(274, 143)"
      ]
     },
     "execution_count": 204,
     "metadata": {},
     "output_type": "execute_result"
    }
   ],
   "source": [
    "df = pd.read_csv('Global_variable_per_country+Intervention.csv')\n",
    "df.shape"
   ]
  },
  {
   "cell_type": "markdown",
   "metadata": {},
   "source": [
    "### Ebola "
   ]
  },
  {
   "cell_type": "markdown",
   "metadata": {},
   "source": [
    "https://www.kaggle.com/imdevskp/ebola-outbreak-20142016-complete-dataset"
   ]
  },
  {
   "cell_type": "code",
   "execution_count": 205,
   "metadata": {},
   "outputs": [],
   "source": [
    "ebola = pd.read_csv('variable/Africa/ebola_2014_2016_clean.csv')\n",
    "ebola = ebola[ebola.Date == '2016-03-23']\n",
    "ebola = ebola[['Country','No. of confirmed deaths', 'No. of confirmed cases']]\n",
    "ebola.rename(columns={'No. of confirmed deaths':'deaths_ebola',\n",
    "                        'No. of confirmed cases':'cases_ebola'}, inplace=True)\n",
    "ebola = ebola.drop([2482,2479], axis=0)"
   ]
  },
  {
   "cell_type": "code",
   "execution_count": 206,
   "metadata": {},
   "outputs": [
    {
     "data": {
      "text/html": [
       "<div>\n",
       "<style scoped>\n",
       "    .dataframe tbody tr th:only-of-type {\n",
       "        vertical-align: middle;\n",
       "    }\n",
       "\n",
       "    .dataframe tbody tr th {\n",
       "        vertical-align: top;\n",
       "    }\n",
       "\n",
       "    .dataframe thead th {\n",
       "        text-align: right;\n",
       "    }\n",
       "</style>\n",
       "<table border=\"1\" class=\"dataframe\">\n",
       "  <thead>\n",
       "    <tr style=\"text-align: right;\">\n",
       "      <th></th>\n",
       "      <th>Country</th>\n",
       "      <th>deaths_ebola</th>\n",
       "      <th>cases_ebola</th>\n",
       "    </tr>\n",
       "  </thead>\n",
       "  <tbody>\n",
       "    <tr>\n",
       "      <th>2473</th>\n",
       "      <td>Guinea</td>\n",
       "      <td>2083.0</td>\n",
       "      <td>3351.0</td>\n",
       "    </tr>\n",
       "    <tr>\n",
       "      <th>2474</th>\n",
       "      <td>Spain</td>\n",
       "      <td>0.0</td>\n",
       "      <td>1.0</td>\n",
       "    </tr>\n",
       "    <tr>\n",
       "      <th>2475</th>\n",
       "      <td>Sierra Leone</td>\n",
       "      <td>3589.0</td>\n",
       "      <td>8704.0</td>\n",
       "    </tr>\n",
       "    <tr>\n",
       "      <th>2476</th>\n",
       "      <td>Senegal</td>\n",
       "      <td>0.0</td>\n",
       "      <td>1.0</td>\n",
       "    </tr>\n",
       "    <tr>\n",
       "      <th>2477</th>\n",
       "      <td>Mali</td>\n",
       "      <td>NaN</td>\n",
       "      <td>7.0</td>\n",
       "    </tr>\n",
       "    <tr>\n",
       "      <th>2478</th>\n",
       "      <td>United Kingdom</td>\n",
       "      <td>NaN</td>\n",
       "      <td>1.0</td>\n",
       "    </tr>\n",
       "    <tr>\n",
       "      <th>2480</th>\n",
       "      <td>Liberia</td>\n",
       "      <td>NaN</td>\n",
       "      <td>3151.0</td>\n",
       "    </tr>\n",
       "    <tr>\n",
       "      <th>2481</th>\n",
       "      <td>Italy</td>\n",
       "      <td>NaN</td>\n",
       "      <td>1.0</td>\n",
       "    </tr>\n",
       "    <tr>\n",
       "      <th>2483</th>\n",
       "      <td>Nigeria</td>\n",
       "      <td>7.0</td>\n",
       "      <td>19.0</td>\n",
       "    </tr>\n",
       "    <tr>\n",
       "      <th>2484</th>\n",
       "      <td>United States of America</td>\n",
       "      <td>1.0</td>\n",
       "      <td>4.0</td>\n",
       "    </tr>\n",
       "  </tbody>\n",
       "</table>\n",
       "</div>"
      ],
      "text/plain": [
       "                       Country  deaths_ebola  cases_ebola\n",
       "2473                    Guinea        2083.0       3351.0\n",
       "2474                     Spain           0.0          1.0\n",
       "2475              Sierra Leone        3589.0       8704.0\n",
       "2476                   Senegal           0.0          1.0\n",
       "2477                      Mali           NaN          7.0\n",
       "2478            United Kingdom           NaN          1.0\n",
       "2480                   Liberia           NaN       3151.0\n",
       "2481                     Italy           NaN          1.0\n",
       "2483                   Nigeria           7.0         19.0\n",
       "2484  United States of America           1.0          4.0"
      ]
     },
     "execution_count": 206,
     "metadata": {},
     "output_type": "execute_result"
    }
   ],
   "source": [
    "ebola"
   ]
  },
  {
   "cell_type": "code",
   "execution_count": 207,
   "metadata": {},
   "outputs": [],
   "source": [
    "ebola.loc[2480,['deaths_ebola']] = 3\n",
    "ebola.loc[2484,['Country']] = 'US'"
   ]
  },
  {
   "cell_type": "code",
   "execution_count": 208,
   "metadata": {},
   "outputs": [],
   "source": [
    "df = df.merge(ebola, how='left', left_on='Territory', right_on='Country')\n",
    "df.drop(['country', 'Country'], axis=1, inplace=True)\n",
    "df[\"deaths_ebola\"] = df[\"deaths_ebola\"].fillna(0)\n",
    "df[\"cases_ebola\"] = df[\"cases_ebola\"].fillna(0)"
   ]
  },
  {
   "cell_type": "code",
   "execution_count": 209,
   "metadata": {},
   "outputs": [
    {
     "data": {
      "text/plain": [
       "(274, 144)"
      ]
     },
     "execution_count": 209,
     "metadata": {},
     "output_type": "execute_result"
    }
   ],
   "source": [
    "df.shape"
   ]
  },
  {
   "cell_type": "markdown",
   "metadata": {},
   "source": [
    "## Looking at missing values"
   ]
  },
  {
   "cell_type": "code",
   "execution_count": 210,
   "metadata": {},
   "outputs": [
    {
     "data": {
      "text/plain": [
       "(274, 138)"
      ]
     },
     "execution_count": 210,
     "metadata": {},
     "output_type": "execute_result"
    }
   ],
   "source": [
    "df.drop(['Alpha-2 code','Country_x','WEBNAME','reg','Country Name','Region'], axis=1, inplace=True)\n",
    "df.shape"
   ]
  },
  {
   "cell_type": "code",
   "execution_count": 211,
   "metadata": {},
   "outputs": [],
   "source": [
    "df[\"Tests/ million\"] = df[\"Tests/ million\"].fillna(0)"
   ]
  },
  {
   "cell_type": "code",
   "execution_count": 216,
   "metadata": {},
   "outputs": [],
   "source": [
    "percent_missing = df.isnull().sum() * 100 / len(df)\n",
    "missing_value_df = pd.DataFrame({'column_name': df.columns,\n",
    "                                 'percent_missing': percent_missing})"
   ]
  },
  {
   "cell_type": "markdown",
   "metadata": {},
   "source": [
    "We will supress all of this variables to predict in a 1st time."
   ]
  },
  {
   "cell_type": "code",
   "execution_count": 217,
   "metadata": {},
   "outputs": [
    {
     "data": {
      "text/html": [
       "<div>\n",
       "<style scoped>\n",
       "    .dataframe tbody tr th:only-of-type {\n",
       "        vertical-align: middle;\n",
       "    }\n",
       "\n",
       "    .dataframe tbody tr th {\n",
       "        vertical-align: top;\n",
       "    }\n",
       "\n",
       "    .dataframe thead th {\n",
       "        text-align: right;\n",
       "    }\n",
       "</style>\n",
       "<table border=\"1\" class=\"dataframe\">\n",
       "  <thead>\n",
       "    <tr style=\"text-align: right;\">\n",
       "      <th></th>\n",
       "      <th>column_name</th>\n",
       "      <th>percent_missing</th>\n",
       "    </tr>\n",
       "  </thead>\n",
       "  <tbody>\n",
       "    <tr>\n",
       "      <th>Province/State</th>\n",
       "      <td>Province/State</td>\n",
       "      <td>63.503650</td>\n",
       "    </tr>\n",
       "    <tr>\n",
       "      <th>Jan_Temp</th>\n",
       "      <td>Jan_Temp</td>\n",
       "      <td>13.868613</td>\n",
       "    </tr>\n",
       "    <tr>\n",
       "      <th>Feb_temp</th>\n",
       "      <td>Feb_temp</td>\n",
       "      <td>13.868613</td>\n",
       "    </tr>\n",
       "    <tr>\n",
       "      <th>Mar_temp</th>\n",
       "      <td>Mar_temp</td>\n",
       "      <td>13.868613</td>\n",
       "    </tr>\n",
       "    <tr>\n",
       "      <th>Apr_Temp</th>\n",
       "      <td>Apr_Temp</td>\n",
       "      <td>13.868613</td>\n",
       "    </tr>\n",
       "    <tr>\n",
       "      <th>May_temp</th>\n",
       "      <td>May_temp</td>\n",
       "      <td>13.868613</td>\n",
       "    </tr>\n",
       "    <tr>\n",
       "      <th>Jun_Temp</th>\n",
       "      <td>Jun_Temp</td>\n",
       "      <td>13.868613</td>\n",
       "    </tr>\n",
       "    <tr>\n",
       "      <th>July_Temp</th>\n",
       "      <td>July_Temp</td>\n",
       "      <td>13.868613</td>\n",
       "    </tr>\n",
       "    <tr>\n",
       "      <th>Aug_Temp</th>\n",
       "      <td>Aug_Temp</td>\n",
       "      <td>13.868613</td>\n",
       "    </tr>\n",
       "    <tr>\n",
       "      <th>Sept_temp</th>\n",
       "      <td>Sept_temp</td>\n",
       "      <td>13.868613</td>\n",
       "    </tr>\n",
       "    <tr>\n",
       "      <th>Oct_temp</th>\n",
       "      <td>Oct_temp</td>\n",
       "      <td>13.868613</td>\n",
       "    </tr>\n",
       "    <tr>\n",
       "      <th>Nov_Temp</th>\n",
       "      <td>Nov_Temp</td>\n",
       "      <td>13.868613</td>\n",
       "    </tr>\n",
       "    <tr>\n",
       "      <th>Dec_temp</th>\n",
       "      <td>Dec_temp</td>\n",
       "      <td>13.868613</td>\n",
       "    </tr>\n",
       "    <tr>\n",
       "      <th>Annual_temp</th>\n",
       "      <td>Annual_temp</td>\n",
       "      <td>13.868613</td>\n",
       "    </tr>\n",
       "    <tr>\n",
       "      <th>%+65</th>\n",
       "      <td>%+65</td>\n",
       "      <td>8.394161</td>\n",
       "    </tr>\n",
       "    <tr>\n",
       "      <th>15-64pop</th>\n",
       "      <td>15-64pop</td>\n",
       "      <td>8.394161</td>\n",
       "    </tr>\n",
       "    <tr>\n",
       "      <th>density</th>\n",
       "      <td>density</td>\n",
       "      <td>4.379562</td>\n",
       "    </tr>\n",
       "    <tr>\n",
       "      <th>sex</th>\n",
       "      <td>sex</td>\n",
       "      <td>8.394161</td>\n",
       "    </tr>\n",
       "    <tr>\n",
       "      <th>IncomeGroup</th>\n",
       "      <td>IncomeGroup</td>\n",
       "      <td>1.824818</td>\n",
       "    </tr>\n",
       "    <tr>\n",
       "      <th>tourism</th>\n",
       "      <td>tourism</td>\n",
       "      <td>8.029197</td>\n",
       "    </tr>\n",
       "    <tr>\n",
       "      <th>World Rank</th>\n",
       "      <td>World Rank</td>\n",
       "      <td>12.408759</td>\n",
       "    </tr>\n",
       "    <tr>\n",
       "      <th>2019 Score</th>\n",
       "      <td>2019 Score</td>\n",
       "      <td>12.408759</td>\n",
       "    </tr>\n",
       "    <tr>\n",
       "      <th>Government Integrity</th>\n",
       "      <td>Government Integrity</td>\n",
       "      <td>10.583942</td>\n",
       "    </tr>\n",
       "    <tr>\n",
       "      <th>Gov't Spending</th>\n",
       "      <td>Gov't Spending</td>\n",
       "      <td>11.313869</td>\n",
       "    </tr>\n",
       "    <tr>\n",
       "      <th>Fiscal Health</th>\n",
       "      <td>Fiscal Health</td>\n",
       "      <td>11.313869</td>\n",
       "    </tr>\n",
       "    <tr>\n",
       "      <th>Investment Freedom</th>\n",
       "      <td>Investment Freedom</td>\n",
       "      <td>10.948905</td>\n",
       "    </tr>\n",
       "    <tr>\n",
       "      <th>Tariff Rate (%)</th>\n",
       "      <td>Tariff Rate (%)</td>\n",
       "      <td>11.678832</td>\n",
       "    </tr>\n",
       "    <tr>\n",
       "      <th>Income Tax Rate (%)</th>\n",
       "      <td>Income Tax Rate (%)</td>\n",
       "      <td>10.948905</td>\n",
       "    </tr>\n",
       "    <tr>\n",
       "      <th>Corporate Tax Rate (%)</th>\n",
       "      <td>Corporate Tax Rate (%)</td>\n",
       "      <td>10.948905</td>\n",
       "    </tr>\n",
       "    <tr>\n",
       "      <th>Gov't Expenditure % of GDP</th>\n",
       "      <td>Gov't Expenditure % of GDP</td>\n",
       "      <td>11.678832</td>\n",
       "    </tr>\n",
       "    <tr>\n",
       "      <th>GDP (Billions, PPP)</th>\n",
       "      <td>GDP (Billions, PPP)</td>\n",
       "      <td>10.583942</td>\n",
       "    </tr>\n",
       "    <tr>\n",
       "      <th>GDP Growth Rate (%)</th>\n",
       "      <td>GDP Growth Rate (%)</td>\n",
       "      <td>10.948905</td>\n",
       "    </tr>\n",
       "    <tr>\n",
       "      <th>5 Year GDP Growth Rate (%)</th>\n",
       "      <td>5 Year GDP Growth Rate (%)</td>\n",
       "      <td>10.948905</td>\n",
       "    </tr>\n",
       "    <tr>\n",
       "      <th>GDP per Capita (PPP)</th>\n",
       "      <td>GDP per Capita (PPP)</td>\n",
       "      <td>10.948905</td>\n",
       "    </tr>\n",
       "    <tr>\n",
       "      <th>Unemployment (%)</th>\n",
       "      <td>Unemployment (%)</td>\n",
       "      <td>11.313869</td>\n",
       "    </tr>\n",
       "    <tr>\n",
       "      <th>Inflation (%)</th>\n",
       "      <td>Inflation (%)</td>\n",
       "      <td>11.313869</td>\n",
       "    </tr>\n",
       "    <tr>\n",
       "      <th>Public Debt (% of GDP)</th>\n",
       "      <td>Public Debt (% of GDP)</td>\n",
       "      <td>11.313869</td>\n",
       "    </tr>\n",
       "    <tr>\n",
       "      <th>o-im</th>\n",
       "      <td>o-im</td>\n",
       "      <td>38.686131</td>\n",
       "    </tr>\n",
       "    <tr>\n",
       "      <th>pop_obsesity</th>\n",
       "      <td>pop_obsesity</td>\n",
       "      <td>13.503650</td>\n",
       "    </tr>\n",
       "    <tr>\n",
       "      <th>Male_obesity</th>\n",
       "      <td>Male_obesity</td>\n",
       "      <td>13.503650</td>\n",
       "    </tr>\n",
       "    <tr>\n",
       "      <th>Female_obesity</th>\n",
       "      <td>Female_obesity</td>\n",
       "      <td>13.503650</td>\n",
       "    </tr>\n",
       "    <tr>\n",
       "      <th>Positive</th>\n",
       "      <td>Positive</td>\n",
       "      <td>66.058394</td>\n",
       "    </tr>\n",
       "    <tr>\n",
       "      <th>Positive/ thousands</th>\n",
       "      <td>Positive/ thousands</td>\n",
       "      <td>66.058394</td>\n",
       "    </tr>\n",
       "  </tbody>\n",
       "</table>\n",
       "</div>"
      ],
      "text/plain": [
       "                                             column_name  percent_missing\n",
       "Province/State                            Province/State        63.503650\n",
       "Jan_Temp                                        Jan_Temp        13.868613\n",
       "Feb_temp                                        Feb_temp        13.868613\n",
       "Mar_temp                                        Mar_temp        13.868613\n",
       "Apr_Temp                                        Apr_Temp        13.868613\n",
       "May_temp                                        May_temp        13.868613\n",
       "Jun_Temp                                        Jun_Temp        13.868613\n",
       "July_Temp                                      July_Temp        13.868613\n",
       "Aug_Temp                                        Aug_Temp        13.868613\n",
       "Sept_temp                                      Sept_temp        13.868613\n",
       "Oct_temp                                        Oct_temp        13.868613\n",
       "Nov_Temp                                        Nov_Temp        13.868613\n",
       "Dec_temp                                        Dec_temp        13.868613\n",
       "Annual_temp                                  Annual_temp        13.868613\n",
       "%+65                                                %+65         8.394161\n",
       "15-64pop                                        15-64pop         8.394161\n",
       "density                                          density         4.379562\n",
       "sex                                                  sex         8.394161\n",
       "IncomeGroup                                  IncomeGroup         1.824818\n",
       "tourism                                          tourism         8.029197\n",
       "World Rank                                    World Rank        12.408759\n",
       "2019 Score                                    2019 Score        12.408759\n",
       "Government Integrity                Government Integrity        10.583942\n",
       "Gov't Spending                            Gov't Spending        11.313869\n",
       "Fiscal Health                              Fiscal Health        11.313869\n",
       "Investment Freedom                   Investment Freedom         10.948905\n",
       "Tariff Rate (%)                          Tariff Rate (%)        11.678832\n",
       "Income Tax Rate (%)                  Income Tax Rate (%)        10.948905\n",
       "Corporate Tax Rate (%)            Corporate Tax Rate (%)        10.948905\n",
       "Gov't Expenditure % of GDP   Gov't Expenditure % of GDP         11.678832\n",
       "GDP (Billions, PPP)                  GDP (Billions, PPP)        10.583942\n",
       "GDP Growth Rate (%)                  GDP Growth Rate (%)        10.948905\n",
       "5 Year GDP Growth Rate (%)    5 Year GDP Growth Rate (%)        10.948905\n",
       "GDP per Capita (PPP)                GDP per Capita (PPP)        10.948905\n",
       "Unemployment (%)                        Unemployment (%)        11.313869\n",
       "Inflation (%)                              Inflation (%)        11.313869\n",
       "Public Debt (% of GDP)            Public Debt (% of GDP)        11.313869\n",
       "o-im                                                o-im        38.686131\n",
       "pop_obsesity                                pop_obsesity        13.503650\n",
       "Male_obesity                                Male_obesity        13.503650\n",
       "Female_obesity                            Female_obesity        13.503650\n",
       "Positive                                        Positive        66.058394\n",
       "Positive/ thousands                  Positive/ thousands        66.058394"
      ]
     },
     "execution_count": 217,
     "metadata": {},
     "output_type": "execute_result"
    }
   ],
   "source": [
    "missing_value_df[percent_missing!=0]"
   ]
  },
  {
   "cell_type": "code",
   "execution_count": 218,
   "metadata": {},
   "outputs": [
    {
     "data": {
      "text/plain": [
       "0               Low income\n",
       "1      Upper middle income\n",
       "2      Upper middle income\n",
       "3              High income\n",
       "4      Lower middle income\n",
       "5              High income\n",
       "6      Upper middle income\n",
       "7      Upper middle income\n",
       "8              High income\n",
       "9              High income\n",
       "10             High income\n",
       "11             High income\n",
       "12             High income\n",
       "13             High income\n",
       "14             High income\n",
       "15             High income\n",
       "16             High income\n",
       "17     Upper middle income\n",
       "18             High income\n",
       "19             High income\n",
       "20     Lower middle income\n",
       "21             High income\n",
       "22     Upper middle income\n",
       "23             High income\n",
       "24              Low income\n",
       "25     Lower middle income\n",
       "26     Lower middle income\n",
       "27     Upper middle income\n",
       "28     Upper middle income\n",
       "29             High income\n",
       "              ...         \n",
       "244                    NaN\n",
       "245            High income\n",
       "246            High income\n",
       "247    Upper middle income\n",
       "248             Low income\n",
       "249             Low income\n",
       "250                    NaN\n",
       "251             Low income\n",
       "252                    NaN\n",
       "253            High income\n",
       "254             Low income\n",
       "255    Lower middle income\n",
       "256    Lower middle income\n",
       "257    Lower middle income\n",
       "258    Lower middle income\n",
       "259    Upper middle income\n",
       "260    Lower middle income\n",
       "261    Lower middle income\n",
       "262    Upper middle income\n",
       "263            High income\n",
       "264            High income\n",
       "265    Upper middle income\n",
       "266    Lower middle income\n",
       "267    Lower middle income\n",
       "268             Low income\n",
       "269    Upper middle income\n",
       "270    Upper middle income\n",
       "271    Upper middle income\n",
       "272    Lower middle income\n",
       "273             Low income\n",
       "Name: IncomeGroup, Length: 274, dtype: object"
      ]
     },
     "execution_count": 218,
     "metadata": {},
     "output_type": "execute_result"
    }
   ],
   "source": [
    "df.IncomeGroup"
   ]
  },
  {
   "cell_type": "code",
   "execution_count": 214,
   "metadata": {},
   "outputs": [],
   "source": [
    "df[\"nb_beds\"] = df[\"nb_beds\"].fillna(0)"
   ]
  },
  {
   "cell_type": "markdown",
   "metadata": {},
   "source": [
    "### less than 7% missing values"
   ]
  },
  {
   "cell_type": "raw",
   "metadata": {},
   "source": [
    "# We assume it's 0 if no records related to medecine in a country.\n",
    "df[\"nb_beds\"] = df[\"nb_beds\"].fillna(0)\n",
    "df[\"HepB3.\"] = df[\"HepB3.\"].fillna(0)\n",
    "df[\"DTP3.c\"] = df[\"DTP3.c\"].fillna(0)\n",
    "df[\"MCV2.c\"] = df[\"MCV2.c\"].fillna(0)\n",
    "df[\"MCV1.c\"] = df[\"MCV1.c\"].fillna(0)\n",
    "df[\"Pol3.c\"] = df[\"Pol3.c\"].fillna(0)"
   ]
  },
  {
   "cell_type": "markdown",
   "metadata": {},
   "source": [
    "for lockdown_date and Type_lockdown we will put a category others for unknowm. "
   ]
  },
  {
   "cell_type": "code",
   "execution_count": 215,
   "metadata": {},
   "outputs": [],
   "source": [
    "df[\"lockdown_date\"] =  df[\"lockdown_date\"].fillna('Unknown')\n",
    "df[\"Type_lockdown\"] =  df[\"Type_lockdown\"].fillna('Unknown')"
   ]
  },
  {
   "cell_type": "markdown",
   "metadata": {},
   "source": [
    "### Less than 1% missing values"
   ]
  },
  {
   "cell_type": "code",
   "execution_count": 172,
   "metadata": {},
   "outputs": [],
   "source": [
    "na =missing_value_df[(percent_missing<6) & (percent_missing!=0 )].column_name"
   ]
  },
  {
   "cell_type": "code",
   "execution_count": 173,
   "metadata": {},
   "outputs": [
    {
     "name": "stdout",
     "output_type": "stream",
     "text": [
      "density            density\n",
      "IncomeGroup    IncomeGroup\n",
      "Name: column_name, dtype: object\n",
      "density            density\n",
      "IncomeGroup    IncomeGroup\n",
      "Name: column_name, dtype: object\n"
     ]
    },
    {
     "ename": "TypeError",
     "evalue": "can only concatenate str (not \"float\") to str",
     "output_type": "error",
     "traceback": [
      "\u001b[0;31m---------------------------------------------------------------------------\u001b[0m",
      "\u001b[0;31mTypeError\u001b[0m                                 Traceback (most recent call last)",
      "\u001b[0;32m~/anaconda3/lib/python3.7/site-packages/pandas/core/nanops.py\u001b[0m in \u001b[0;36mf\u001b[0;34m(values, axis, skipna, **kwds)\u001b[0m\n\u001b[1;32m    126\u001b[0m                 \u001b[0;32melse\u001b[0m\u001b[0;34m:\u001b[0m\u001b[0;34m\u001b[0m\u001b[0;34m\u001b[0m\u001b[0m\n\u001b[0;32m--> 127\u001b[0;31m                     \u001b[0mresult\u001b[0m \u001b[0;34m=\u001b[0m \u001b[0malt\u001b[0m\u001b[0;34m(\u001b[0m\u001b[0mvalues\u001b[0m\u001b[0;34m,\u001b[0m \u001b[0maxis\u001b[0m\u001b[0;34m=\u001b[0m\u001b[0maxis\u001b[0m\u001b[0;34m,\u001b[0m \u001b[0mskipna\u001b[0m\u001b[0;34m=\u001b[0m\u001b[0mskipna\u001b[0m\u001b[0;34m,\u001b[0m \u001b[0;34m**\u001b[0m\u001b[0mkwds\u001b[0m\u001b[0;34m)\u001b[0m\u001b[0;34m\u001b[0m\u001b[0;34m\u001b[0m\u001b[0m\n\u001b[0m\u001b[1;32m    128\u001b[0m             \u001b[0;32mexcept\u001b[0m \u001b[0mException\u001b[0m\u001b[0;34m:\u001b[0m\u001b[0;34m\u001b[0m\u001b[0;34m\u001b[0m\u001b[0m\n",
      "\u001b[0;32m~/anaconda3/lib/python3.7/site-packages/pandas/core/nanops.py\u001b[0m in \u001b[0;36mnanmean\u001b[0;34m(values, axis, skipna, mask)\u001b[0m\n\u001b[1;32m    478\u001b[0m     \u001b[0mcount\u001b[0m \u001b[0;34m=\u001b[0m \u001b[0m_get_counts\u001b[0m\u001b[0;34m(\u001b[0m\u001b[0mmask\u001b[0m\u001b[0;34m,\u001b[0m \u001b[0maxis\u001b[0m\u001b[0;34m,\u001b[0m \u001b[0mdtype\u001b[0m\u001b[0;34m=\u001b[0m\u001b[0mdtype_count\u001b[0m\u001b[0;34m)\u001b[0m\u001b[0;34m\u001b[0m\u001b[0;34m\u001b[0m\u001b[0m\n\u001b[0;32m--> 479\u001b[0;31m     \u001b[0mthe_sum\u001b[0m \u001b[0;34m=\u001b[0m \u001b[0m_ensure_numeric\u001b[0m\u001b[0;34m(\u001b[0m\u001b[0mvalues\u001b[0m\u001b[0;34m.\u001b[0m\u001b[0msum\u001b[0m\u001b[0;34m(\u001b[0m\u001b[0maxis\u001b[0m\u001b[0;34m,\u001b[0m \u001b[0mdtype\u001b[0m\u001b[0;34m=\u001b[0m\u001b[0mdtype_sum\u001b[0m\u001b[0;34m)\u001b[0m\u001b[0;34m)\u001b[0m\u001b[0;34m\u001b[0m\u001b[0;34m\u001b[0m\u001b[0m\n\u001b[0m\u001b[1;32m    480\u001b[0m \u001b[0;34m\u001b[0m\u001b[0m\n",
      "\u001b[0;32m~/anaconda3/lib/python3.7/site-packages/numpy/core/_methods.py\u001b[0m in \u001b[0;36m_sum\u001b[0;34m(a, axis, dtype, out, keepdims, initial)\u001b[0m\n\u001b[1;32m     35\u001b[0m          initial=_NoValue):\n\u001b[0;32m---> 36\u001b[0;31m     \u001b[0;32mreturn\u001b[0m \u001b[0mumr_sum\u001b[0m\u001b[0;34m(\u001b[0m\u001b[0ma\u001b[0m\u001b[0;34m,\u001b[0m \u001b[0maxis\u001b[0m\u001b[0;34m,\u001b[0m \u001b[0mdtype\u001b[0m\u001b[0;34m,\u001b[0m \u001b[0mout\u001b[0m\u001b[0;34m,\u001b[0m \u001b[0mkeepdims\u001b[0m\u001b[0;34m,\u001b[0m \u001b[0minitial\u001b[0m\u001b[0;34m)\u001b[0m\u001b[0;34m\u001b[0m\u001b[0;34m\u001b[0m\u001b[0m\n\u001b[0m\u001b[1;32m     37\u001b[0m \u001b[0;34m\u001b[0m\u001b[0m\n",
      "\u001b[0;31mTypeError\u001b[0m: can only concatenate str (not \"float\") to str",
      "\nDuring handling of the above exception, another exception occurred:\n",
      "\u001b[0;31mTypeError\u001b[0m                                 Traceback (most recent call last)",
      "\u001b[0;32m<ipython-input-173-f2745f933742>\u001b[0m in \u001b[0;36m<module>\u001b[0;34m\u001b[0m\n\u001b[1;32m      1\u001b[0m \u001b[0;32mfor\u001b[0m \u001b[0mvar\u001b[0m \u001b[0;32min\u001b[0m \u001b[0mna\u001b[0m\u001b[0;34m:\u001b[0m\u001b[0;34m\u001b[0m\u001b[0;34m\u001b[0m\u001b[0m\n\u001b[1;32m      2\u001b[0m     \u001b[0mprint\u001b[0m\u001b[0;34m(\u001b[0m\u001b[0mna\u001b[0m\u001b[0;34m)\u001b[0m\u001b[0;34m\u001b[0m\u001b[0;34m\u001b[0m\u001b[0m\n\u001b[0;32m----> 3\u001b[0;31m     \u001b[0mdf\u001b[0m\u001b[0;34m.\u001b[0m\u001b[0mfillna\u001b[0m\u001b[0;34m(\u001b[0m\u001b[0mdf\u001b[0m\u001b[0;34m[\u001b[0m\u001b[0mvar\u001b[0m\u001b[0;34m]\u001b[0m\u001b[0;34m.\u001b[0m\u001b[0mmean\u001b[0m\u001b[0;34m(\u001b[0m\u001b[0;34m)\u001b[0m\u001b[0;34m,\u001b[0m \u001b[0minplace\u001b[0m\u001b[0;34m=\u001b[0m\u001b[0;32mTrue\u001b[0m\u001b[0;34m)\u001b[0m\u001b[0;34m\u001b[0m\u001b[0;34m\u001b[0m\u001b[0m\n\u001b[0m",
      "\u001b[0;32m~/anaconda3/lib/python3.7/site-packages/pandas/core/generic.py\u001b[0m in \u001b[0;36mstat_func\u001b[0;34m(self, axis, skipna, level, numeric_only, **kwargs)\u001b[0m\n\u001b[1;32m  10954\u001b[0m                                       skipna=skipna)\n\u001b[1;32m  10955\u001b[0m         return self._reduce(f, name, axis=axis, skipna=skipna,\n\u001b[0;32m> 10956\u001b[0;31m                             numeric_only=numeric_only)\n\u001b[0m\u001b[1;32m  10957\u001b[0m \u001b[0;34m\u001b[0m\u001b[0m\n\u001b[1;32m  10958\u001b[0m     \u001b[0;32mreturn\u001b[0m \u001b[0mset_function_name\u001b[0m\u001b[0;34m(\u001b[0m\u001b[0mstat_func\u001b[0m\u001b[0;34m,\u001b[0m \u001b[0mname\u001b[0m\u001b[0;34m,\u001b[0m \u001b[0mcls\u001b[0m\u001b[0;34m)\u001b[0m\u001b[0;34m\u001b[0m\u001b[0;34m\u001b[0m\u001b[0m\n",
      "\u001b[0;32m~/anaconda3/lib/python3.7/site-packages/pandas/core/series.py\u001b[0m in \u001b[0;36m_reduce\u001b[0;34m(self, op, name, axis, skipna, numeric_only, filter_type, **kwds)\u001b[0m\n\u001b[1;32m   3628\u001b[0m                                           'numeric_only.'.format(name))\n\u001b[1;32m   3629\u001b[0m             \u001b[0;32mwith\u001b[0m \u001b[0mnp\u001b[0m\u001b[0;34m.\u001b[0m\u001b[0merrstate\u001b[0m\u001b[0;34m(\u001b[0m\u001b[0mall\u001b[0m\u001b[0;34m=\u001b[0m\u001b[0;34m'ignore'\u001b[0m\u001b[0;34m)\u001b[0m\u001b[0;34m:\u001b[0m\u001b[0;34m\u001b[0m\u001b[0;34m\u001b[0m\u001b[0m\n\u001b[0;32m-> 3630\u001b[0;31m                 \u001b[0;32mreturn\u001b[0m \u001b[0mop\u001b[0m\u001b[0;34m(\u001b[0m\u001b[0mdelegate\u001b[0m\u001b[0;34m,\u001b[0m \u001b[0mskipna\u001b[0m\u001b[0;34m=\u001b[0m\u001b[0mskipna\u001b[0m\u001b[0;34m,\u001b[0m \u001b[0;34m**\u001b[0m\u001b[0mkwds\u001b[0m\u001b[0;34m)\u001b[0m\u001b[0;34m\u001b[0m\u001b[0;34m\u001b[0m\u001b[0m\n\u001b[0m\u001b[1;32m   3631\u001b[0m \u001b[0;34m\u001b[0m\u001b[0m\n\u001b[1;32m   3632\u001b[0m         \u001b[0;31m# TODO(EA) dispatch to Index\u001b[0m\u001b[0;34m\u001b[0m\u001b[0;34m\u001b[0m\u001b[0;34m\u001b[0m\u001b[0m\n",
      "\u001b[0;32m~/anaconda3/lib/python3.7/site-packages/pandas/core/nanops.py\u001b[0m in \u001b[0;36m_f\u001b[0;34m(*args, **kwargs)\u001b[0m\n\u001b[1;32m     74\u001b[0m             \u001b[0;32mtry\u001b[0m\u001b[0;34m:\u001b[0m\u001b[0;34m\u001b[0m\u001b[0;34m\u001b[0m\u001b[0m\n\u001b[1;32m     75\u001b[0m                 \u001b[0;32mwith\u001b[0m \u001b[0mnp\u001b[0m\u001b[0;34m.\u001b[0m\u001b[0merrstate\u001b[0m\u001b[0;34m(\u001b[0m\u001b[0minvalid\u001b[0m\u001b[0;34m=\u001b[0m\u001b[0;34m'ignore'\u001b[0m\u001b[0;34m)\u001b[0m\u001b[0;34m:\u001b[0m\u001b[0;34m\u001b[0m\u001b[0;34m\u001b[0m\u001b[0m\n\u001b[0;32m---> 76\u001b[0;31m                     \u001b[0;32mreturn\u001b[0m \u001b[0mf\u001b[0m\u001b[0;34m(\u001b[0m\u001b[0;34m*\u001b[0m\u001b[0margs\u001b[0m\u001b[0;34m,\u001b[0m \u001b[0;34m**\u001b[0m\u001b[0mkwargs\u001b[0m\u001b[0;34m)\u001b[0m\u001b[0;34m\u001b[0m\u001b[0;34m\u001b[0m\u001b[0m\n\u001b[0m\u001b[1;32m     77\u001b[0m             \u001b[0;32mexcept\u001b[0m \u001b[0mValueError\u001b[0m \u001b[0;32mas\u001b[0m \u001b[0me\u001b[0m\u001b[0;34m:\u001b[0m\u001b[0;34m\u001b[0m\u001b[0;34m\u001b[0m\u001b[0m\n\u001b[1;32m     78\u001b[0m                 \u001b[0;31m# we want to transform an object array\u001b[0m\u001b[0;34m\u001b[0m\u001b[0;34m\u001b[0m\u001b[0;34m\u001b[0m\u001b[0m\n",
      "\u001b[0;32m~/anaconda3/lib/python3.7/site-packages/pandas/core/nanops.py\u001b[0m in \u001b[0;36mf\u001b[0;34m(values, axis, skipna, **kwds)\u001b[0m\n\u001b[1;32m    128\u001b[0m             \u001b[0;32mexcept\u001b[0m \u001b[0mException\u001b[0m\u001b[0;34m:\u001b[0m\u001b[0;34m\u001b[0m\u001b[0;34m\u001b[0m\u001b[0m\n\u001b[1;32m    129\u001b[0m                 \u001b[0;32mtry\u001b[0m\u001b[0;34m:\u001b[0m\u001b[0;34m\u001b[0m\u001b[0;34m\u001b[0m\u001b[0m\n\u001b[0;32m--> 130\u001b[0;31m                     \u001b[0mresult\u001b[0m \u001b[0;34m=\u001b[0m \u001b[0malt\u001b[0m\u001b[0;34m(\u001b[0m\u001b[0mvalues\u001b[0m\u001b[0;34m,\u001b[0m \u001b[0maxis\u001b[0m\u001b[0;34m=\u001b[0m\u001b[0maxis\u001b[0m\u001b[0;34m,\u001b[0m \u001b[0mskipna\u001b[0m\u001b[0;34m=\u001b[0m\u001b[0mskipna\u001b[0m\u001b[0;34m,\u001b[0m \u001b[0;34m**\u001b[0m\u001b[0mkwds\u001b[0m\u001b[0;34m)\u001b[0m\u001b[0;34m\u001b[0m\u001b[0;34m\u001b[0m\u001b[0m\n\u001b[0m\u001b[1;32m    131\u001b[0m                 \u001b[0;32mexcept\u001b[0m \u001b[0mValueError\u001b[0m \u001b[0;32mas\u001b[0m \u001b[0me\u001b[0m\u001b[0;34m:\u001b[0m\u001b[0;34m\u001b[0m\u001b[0;34m\u001b[0m\u001b[0m\n\u001b[1;32m    132\u001b[0m                     \u001b[0;31m# we want to transform an object array\u001b[0m\u001b[0;34m\u001b[0m\u001b[0;34m\u001b[0m\u001b[0;34m\u001b[0m\u001b[0m\n",
      "\u001b[0;32m~/anaconda3/lib/python3.7/site-packages/pandas/core/nanops.py\u001b[0m in \u001b[0;36mnanmean\u001b[0;34m(values, axis, skipna, mask)\u001b[0m\n\u001b[1;32m    477\u001b[0m         \u001b[0mdtype_count\u001b[0m \u001b[0;34m=\u001b[0m \u001b[0mdtype\u001b[0m\u001b[0;34m\u001b[0m\u001b[0;34m\u001b[0m\u001b[0m\n\u001b[1;32m    478\u001b[0m     \u001b[0mcount\u001b[0m \u001b[0;34m=\u001b[0m \u001b[0m_get_counts\u001b[0m\u001b[0;34m(\u001b[0m\u001b[0mmask\u001b[0m\u001b[0;34m,\u001b[0m \u001b[0maxis\u001b[0m\u001b[0;34m,\u001b[0m \u001b[0mdtype\u001b[0m\u001b[0;34m=\u001b[0m\u001b[0mdtype_count\u001b[0m\u001b[0;34m)\u001b[0m\u001b[0;34m\u001b[0m\u001b[0;34m\u001b[0m\u001b[0m\n\u001b[0;32m--> 479\u001b[0;31m     \u001b[0mthe_sum\u001b[0m \u001b[0;34m=\u001b[0m \u001b[0m_ensure_numeric\u001b[0m\u001b[0;34m(\u001b[0m\u001b[0mvalues\u001b[0m\u001b[0;34m.\u001b[0m\u001b[0msum\u001b[0m\u001b[0;34m(\u001b[0m\u001b[0maxis\u001b[0m\u001b[0;34m,\u001b[0m \u001b[0mdtype\u001b[0m\u001b[0;34m=\u001b[0m\u001b[0mdtype_sum\u001b[0m\u001b[0;34m)\u001b[0m\u001b[0;34m)\u001b[0m\u001b[0;34m\u001b[0m\u001b[0;34m\u001b[0m\u001b[0m\n\u001b[0m\u001b[1;32m    480\u001b[0m \u001b[0;34m\u001b[0m\u001b[0m\n\u001b[1;32m    481\u001b[0m     \u001b[0;32mif\u001b[0m \u001b[0maxis\u001b[0m \u001b[0;32mis\u001b[0m \u001b[0;32mnot\u001b[0m \u001b[0;32mNone\u001b[0m \u001b[0;32mand\u001b[0m \u001b[0mgetattr\u001b[0m\u001b[0;34m(\u001b[0m\u001b[0mthe_sum\u001b[0m\u001b[0;34m,\u001b[0m \u001b[0;34m'ndim'\u001b[0m\u001b[0;34m,\u001b[0m \u001b[0;32mFalse\u001b[0m\u001b[0;34m)\u001b[0m\u001b[0;34m:\u001b[0m\u001b[0;34m\u001b[0m\u001b[0;34m\u001b[0m\u001b[0m\n",
      "\u001b[0;32m~/anaconda3/lib/python3.7/site-packages/numpy/core/_methods.py\u001b[0m in \u001b[0;36m_sum\u001b[0;34m(a, axis, dtype, out, keepdims, initial)\u001b[0m\n\u001b[1;32m     34\u001b[0m def _sum(a, axis=None, dtype=None, out=None, keepdims=False,\n\u001b[1;32m     35\u001b[0m          initial=_NoValue):\n\u001b[0;32m---> 36\u001b[0;31m     \u001b[0;32mreturn\u001b[0m \u001b[0mumr_sum\u001b[0m\u001b[0;34m(\u001b[0m\u001b[0ma\u001b[0m\u001b[0;34m,\u001b[0m \u001b[0maxis\u001b[0m\u001b[0;34m,\u001b[0m \u001b[0mdtype\u001b[0m\u001b[0;34m,\u001b[0m \u001b[0mout\u001b[0m\u001b[0;34m,\u001b[0m \u001b[0mkeepdims\u001b[0m\u001b[0;34m,\u001b[0m \u001b[0minitial\u001b[0m\u001b[0;34m)\u001b[0m\u001b[0;34m\u001b[0m\u001b[0;34m\u001b[0m\u001b[0m\n\u001b[0m\u001b[1;32m     37\u001b[0m \u001b[0;34m\u001b[0m\u001b[0m\n\u001b[1;32m     38\u001b[0m def _prod(a, axis=None, dtype=None, out=None, keepdims=False,\n",
      "\u001b[0;31mTypeError\u001b[0m: can only concatenate str (not \"float\") to str"
     ]
    }
   ],
   "source": [
    "for var in na:\n",
    "    print(na)\n",
    "    df.fillna(df[var].mean(), inplace=True)"
   ]
  },
  {
   "cell_type": "code",
   "execution_count": null,
   "metadata": {},
   "outputs": [],
   "source": []
  },
  {
   "cell_type": "code",
   "execution_count": 295,
   "metadata": {},
   "outputs": [],
   "source": [
    "df.to_csv('Global_variable_per_country+Intervention+Africa.csv',index=False)"
   ]
  },
  {
   "cell_type": "code",
   "execution_count": null,
   "metadata": {},
   "outputs": [],
   "source": []
  }
 ],
 "metadata": {
  "kernelspec": {
   "display_name": "Python 3",
   "language": "python",
   "name": "python3"
  },
  "language_info": {
   "codemirror_mode": {
    "name": "ipython",
    "version": 3
   },
   "file_extension": ".py",
   "mimetype": "text/x-python",
   "name": "python",
   "nbconvert_exporter": "python",
   "pygments_lexer": "ipython3",
   "version": "3.7.3"
  }
 },
 "nbformat": 4,
 "nbformat_minor": 2
}
