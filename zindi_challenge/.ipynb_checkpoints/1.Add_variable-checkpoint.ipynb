{
 "cells": [
  {
   "cell_type": "markdown",
   "metadata": {},
   "source": [
    "# Zindi - Challenge\n",
    "\n",
    "https://zindi.africa/competitions/predict-the-global-spread-of-covid-19\n",
    "\n",
    "April 9, 2020"
   ]
  },
  {
   "cell_type": "code",
   "execution_count": 1,
   "metadata": {},
   "outputs": [],
   "source": [
    "import pandas as pd\n",
    "import seaborn as sns\n",
    "import matplotlib as plt \n",
    "import requests\n",
    "import lxml.html as lh"
   ]
  },
  {
   "cell_type": "markdown",
   "metadata": {},
   "source": [
    "Only the folder Global_variable_per-country was used."
   ]
  },
  {
   "cell_type": "markdown",
   "metadata": {},
   "source": [
    "## Import Data"
   ]
  },
  {
   "cell_type": "code",
   "execution_count": 2,
   "metadata": {},
   "outputs": [
    {
     "data": {
      "text/plain": [
       "(274, 84)"
      ]
     },
     "execution_count": 2,
     "metadata": {},
     "output_type": "execute_result"
    }
   ],
   "source": [
    "#Read train \n",
    "deaths = pd.read_csv('data/deaths.csv')\n",
    "cases = pd.read_csv('data/cases.csv')\n",
    "deaths.drop(['Province/State'], axis=True)\n",
    "deaths.shape"
   ]
  },
  {
   "cell_type": "raw",
   "metadata": {},
   "source": [
    "#transpose data frame\n",
    "deaths.T "
   ]
  },
  {
   "cell_type": "code",
   "execution_count": 3,
   "metadata": {},
   "outputs": [
    {
     "data": {
      "text/html": [
       "<div>\n",
       "<style scoped>\n",
       "    .dataframe tbody tr th:only-of-type {\n",
       "        vertical-align: middle;\n",
       "    }\n",
       "\n",
       "    .dataframe tbody tr th {\n",
       "        vertical-align: top;\n",
       "    }\n",
       "\n",
       "    .dataframe thead th {\n",
       "        text-align: right;\n",
       "    }\n",
       "</style>\n",
       "<table border=\"1\" class=\"dataframe\">\n",
       "  <thead>\n",
       "    <tr style=\"text-align: right;\">\n",
       "      <th></th>\n",
       "      <th>Province/State</th>\n",
       "      <th>Country/Region</th>\n",
       "      <th>Territory</th>\n",
       "      <th>Population</th>\n",
       "      <th>Lat</th>\n",
       "      <th>Long</th>\n",
       "      <th>1/22/20</th>\n",
       "      <th>1/23/20</th>\n",
       "      <th>1/24/20</th>\n",
       "      <th>1/25/20</th>\n",
       "      <th>...</th>\n",
       "      <th>3/30/20</th>\n",
       "      <th>3/31/20</th>\n",
       "      <th>4/1/20</th>\n",
       "      <th>4/2/20</th>\n",
       "      <th>4/3/20</th>\n",
       "      <th>4/4/20</th>\n",
       "      <th>4/5/20</th>\n",
       "      <th>4/6/20</th>\n",
       "      <th>4/7/20</th>\n",
       "      <th>4/8/20</th>\n",
       "    </tr>\n",
       "  </thead>\n",
       "  <tbody>\n",
       "    <tr>\n",
       "      <th>0</th>\n",
       "      <td>NaN</td>\n",
       "      <td>Afghanistan</td>\n",
       "      <td>Afghanistan</td>\n",
       "      <td>26023100.0</td>\n",
       "      <td>33.0000</td>\n",
       "      <td>65.0000</td>\n",
       "      <td>0</td>\n",
       "      <td>0</td>\n",
       "      <td>0</td>\n",
       "      <td>0</td>\n",
       "      <td>...</td>\n",
       "      <td>4</td>\n",
       "      <td>4</td>\n",
       "      <td>4</td>\n",
       "      <td>6</td>\n",
       "      <td>6</td>\n",
       "      <td>7</td>\n",
       "      <td>7</td>\n",
       "      <td>11</td>\n",
       "      <td>14</td>\n",
       "      <td>14</td>\n",
       "    </tr>\n",
       "    <tr>\n",
       "      <th>1</th>\n",
       "      <td>NaN</td>\n",
       "      <td>Albania</td>\n",
       "      <td>Albania</td>\n",
       "      <td>2895947.0</td>\n",
       "      <td>41.1533</td>\n",
       "      <td>20.1683</td>\n",
       "      <td>0</td>\n",
       "      <td>0</td>\n",
       "      <td>0</td>\n",
       "      <td>0</td>\n",
       "      <td>...</td>\n",
       "      <td>11</td>\n",
       "      <td>15</td>\n",
       "      <td>15</td>\n",
       "      <td>16</td>\n",
       "      <td>17</td>\n",
       "      <td>20</td>\n",
       "      <td>20</td>\n",
       "      <td>21</td>\n",
       "      <td>22</td>\n",
       "      <td>22</td>\n",
       "    </tr>\n",
       "  </tbody>\n",
       "</table>\n",
       "<p>2 rows × 84 columns</p>\n",
       "</div>"
      ],
      "text/plain": [
       "  Province/State Country/Region    Territory  Population      Lat     Long  \\\n",
       "0            NaN    Afghanistan  Afghanistan  26023100.0  33.0000  65.0000   \n",
       "1            NaN        Albania      Albania   2895947.0  41.1533  20.1683   \n",
       "\n",
       "   1/22/20  1/23/20  1/24/20  1/25/20  ...  3/30/20  3/31/20  4/1/20  4/2/20  \\\n",
       "0        0        0        0        0  ...        4        4       4       6   \n",
       "1        0        0        0        0  ...       11       15      15      16   \n",
       "\n",
       "   4/3/20  4/4/20  4/5/20  4/6/20  4/7/20  4/8/20  \n",
       "0       6       7       7      11      14      14  \n",
       "1      17      20      20      21      22      22  \n",
       "\n",
       "[2 rows x 84 columns]"
      ]
     },
     "execution_count": 3,
     "metadata": {},
     "output_type": "execute_result"
    }
   ],
   "source": [
    "deaths.head(2)"
   ]
  },
  {
   "cell_type": "markdown",
   "metadata": {},
   "source": [
    "Compare the 1st 3 columns."
   ]
  },
  {
   "cell_type": "code",
   "execution_count": 4,
   "metadata": {},
   "outputs": [
    {
     "data": {
      "text/plain": [
       "274"
      ]
     },
     "execution_count": 4,
     "metadata": {},
     "output_type": "execute_result"
    }
   ],
   "source": [
    "#no missing values\n",
    "sum(deaths['Country/Region'].isnull() == False)"
   ]
  },
  {
   "cell_type": "raw",
   "metadata": {},
   "source": [
    "l1=deaths['Country/Region'].unique()\n",
    "l2=deaths['Territory'].unique()\n",
    "len([value for value in l1 if value in l2] )"
   ]
  },
  {
   "cell_type": "raw",
   "metadata": {},
   "source": [
    "len([x for x in l2 if x not in l1])\n",
    "[x for x in l2 if x not in l1]"
   ]
  },
  {
   "cell_type": "raw",
   "metadata": {},
   "source": [
    "len([x for x in l1 if x not in l2])\n",
    "[x for x in l1 if x not in l2]"
   ]
  },
  {
   "cell_type": "raw",
   "metadata": {},
   "source": [
    "len(deaths['Territory'].unique())"
   ]
  },
  {
   "cell_type": "raw",
   "metadata": {},
   "source": [
    "len(deaths['Province/State'].unique())"
   ]
  },
  {
   "cell_type": "raw",
   "metadata": {},
   "source": [
    "deaths[deaths['Province/State'].isnull() == False]"
   ]
  },
  {
   "cell_type": "markdown",
   "metadata": {},
   "source": [
    "We will use 'Country/Region'. \n"
   ]
  },
  {
   "cell_type": "code",
   "execution_count": 5,
   "metadata": {},
   "outputs": [],
   "source": [
    "country = deaths['Country/Region']"
   ]
  },
  {
   "cell_type": "raw",
   "metadata": {},
   "source": [
    "deaths.iloc[220:225,]"
   ]
  },
  {
   "cell_type": "raw",
   "metadata": {},
   "source": [
    "deaths[deaths.Population.isnull()]"
   ]
  },
  {
   "cell_type": "code",
   "execution_count": 6,
   "metadata": {},
   "outputs": [],
   "source": [
    "## Fill in NaN values for Population\n",
    "index = deaths[deaths.Population.isnull()].index\n",
    "# updated in 2017\n",
    "deaths.at[index[0], 'Population'] = 76965 \n",
    "deaths.at[index[1], 'Population'] = 395361\n",
    "deaths.at[index[2], 'Population'] = 11.05e+06\n",
    "deaths.at[index[3], 'Population'] = 428697\n",
    "deaths.at[index[4], 'Population'] = 546388 \n",
    "deaths.at[index[5], 'Population'] = 4.659e+06\n",
    "deaths.at[index[6], 'Population'] = 5.261e+06\n",
    "deaths.at[index[7], 'Population'] = 81.34e+06\n",
    "deaths.at[index[8], 'Population'] = 24.29e+06 # Cote d'Ivoire\n",
    "deaths.at[index[10], 'Population'] = 10.77e+06\n",
    "deaths.at[index[11], 'Population'] = 1.367e+06\n",
    "deaths.at[index[12], 'Population'] = 2.101e+06\n",
    "deaths.at[index[13], 'Population'] = 81.16e+06\n",
    "deaths.at[index[14], 'Population'] = 51.47e+06\n",
    "deaths.at[index[15], 'Population'] = 3.55e+06\n",
    "deaths.at[index[17], 'Population'] = 105264\n",
    "deaths.at[index[18], 'Population'] = 161014\n",
    "deaths.at[index[19], 'Population'] = 41109 \n",
    "deaths.at[index[21], 'Population'] = 21.48e+06\n",
    "deaths.at[index[23], 'Population'] = 104.9e+06\n",
    "deaths.at[index[24], 'Population'] = 144.5e+06\n",
    "deaths.at[index[25], 'Population'] = 7.022e+06\n",
    "deaths.at[index[26], 'Population'] = 12.58e+06\n",
    "deaths.at[index[28], 'Population'] = 57.31e+06\n",
    "deaths.at[index[29], 'Population'] = 9.4e+06\n",
    "deaths.at[index[30], 'Population'] = 65441\n",
    "deaths.at[index[31], 'Population'] = 61559\n",
    "deaths.at[index[32], 'Population'] = 170499\n",
    "deaths.at[index[33], 'Population'] = 34571\n",
    "deaths.at[index[34], 'Population'] = 84287\n",
    "deaths.at[index[35], 'Population'] = 5900 #2008\n",
    "deaths.at[index[38], 'Population'] = 31.98e+06\n",
    "deaths.at[index[39], 'Population'] = 95.54e+06\n",
    "deaths.at[index[40], 'Population'] = 18.27e+06\n",
    "deaths.at[index[41], 'Population'] = 1.296e+06\n",
    "deaths.at[index[42], 'Population'] = 6.858e+06\n",
    "deaths.at[index[43], 'Population'] = 15094\n",
    "deaths.at[index[44], 'Population'] = 31196\n",
    "deaths.at[index[45], 'Population'] = 35446\n",
    "deaths.at[index[46], 'Population'] = 25157\n",
    "deaths.at[index[47], 'Population'] = 2840\n",
    "deaths.at[index[48], 'Population'] = 204327\n",
    "deaths.at[index[49], 'Population'] = 813912\n",
    "deaths.at[index[50], 'Population'] = 53127\n",
    "deaths.at[index[51], 'Population'] = 105544\n",
    "deaths.at[index[52], 'Population'] = 53.37e+06\n",
    "deaths.at[index[53], 'Population'] = 51.47e+06\n",
    "deaths.at[index[54], 'Population'] = 40.53e+06\n",
    "\n",
    "#2018 \n",
    "deaths.at[index[27], 'Population'] = 23.78e+06\n",
    "deaths.at[index[37], 'Population'] = 327.2e+06\n",
    "#2019\n",
    "deaths.at[index[9], 'Population'] = 10.65e+06\n",
    "deaths.at[index[20], 'Population'] = 17.28e+06\n",
    "deaths.at[index[22], 'Population'] = 2.077e+06\n",
    "deaths.at[index[36], 'Population'] = 6.65e+06\n",
    "\n",
    "#2020\n",
    "deaths.at[index[16], 'Population'] = 631219\n",
    "\n",
    "\n",
    "\n"
   ]
  },
  {
   "cell_type": "markdown",
   "metadata": {},
   "source": [
    "No more NaN values for population. "
   ]
  },
  {
   "cell_type": "markdown",
   "metadata": {},
   "source": [
    "Add a code country column."
   ]
  },
  {
   "cell_type": "code",
   "execution_count": 7,
   "metadata": {},
   "outputs": [],
   "source": [
    "def web_scraping_data(link):\n",
    "    #Create a handle, page, to handle the contents of the website\n",
    "    page = requests.get(link)\n",
    "    doc = lh.fromstring(page.content)\n",
    "    tr_elements = doc.xpath('//tr')\n",
    "\n",
    "    tr_elements = doc.xpath('//tr')\n",
    "    col=[]\n",
    "    i=0\n",
    "    for t in tr_elements[0]:\n",
    "        i+=1\n",
    "        name=t.text_content()\n",
    "        #print ('%d:\"%s\"'%(i,name))\n",
    "        col.append((name,[]))\n",
    "\n",
    "    for j in range(1,len(tr_elements)):\n",
    "        T=tr_elements[j]\n",
    "        i=0\n",
    "\n",
    "        for t in T.iterchildren():\n",
    "            data=t.text_content() \n",
    "            if i>0:\n",
    "                try:\n",
    "                    data=int(data)\n",
    "                except:\n",
    "                    pass\n",
    "\n",
    "            col[i][1].append(data)\n",
    "            i+=1\n",
    "\n",
    "    Dict={title:column for (title,column) in col}\n",
    "    df=pd.DataFrame(Dict)\n",
    "    \n",
    "    return df"
   ]
  },
  {
   "cell_type": "code",
   "execution_count": 8,
   "metadata": {},
   "outputs": [],
   "source": [
    "code_country = web_scraping_data(\"https://www.iban.com/country-codes\")\n",
    "df = deaths.merge(code_country, how='left', left_on='Country/Region', right_on='Country')"
   ]
  },
  {
   "cell_type": "raw",
   "metadata": {},
   "source": [
    "df[df['Alpha-3 code'].isnull()]"
   ]
  },
  {
   "cell_type": "code",
   "execution_count": 9,
   "metadata": {},
   "outputs": [],
   "source": [
    "## Fill in NaN values for alpha 3 code \n",
    "index = df[df['Alpha-3 code'].isnull()].index\n",
    "variable = 'Alpha-3 code'\n",
    "df.at[index[0], variable] = 'BHS'\n",
    "df.at[index[1], variable] = 'BOL'\n",
    "df.at[index[2], variable] = 'BRN'\n",
    "df.at[index[3], variable] = 'CAF'\n",
    "df.at[index[4], variable] = 'COG'\n",
    "df.at[index[5], variable] = 'COD'\n",
    "df.at[index[6], variable] = 'CIV'\n",
    "df.at[index[7], variable] = 'DOM'\n",
    "df.at[index[8], variable] = 'GMB'\n",
    "df.at[index[9],variable] = 'IRN'\n",
    "df.at[index[10],variable] = 'PRK'\n",
    "df.at[index[11], variable] = 'MDA'\n",
    "df.at[index[12], variable] = 'ABW'\n",
    "df.at[index[13], variable] = 'CUW'\n",
    "df.at[index[14],variable] = 'SXM'\n",
    "df.at[index[15],variable] = 'NLD'\n",
    "df.at[index[16],variable] = 'NER'\n",
    "df.at[index[17], variable] = 'MKD'\n",
    "df.at[index[18], variable] = 'PHL'\n",
    "df.at[index[19], variable] = 'RUS'\n",
    "df.at[index[20], variable] = 'SSD'\n",
    "df.at[index[21], variable] = 'TWN'\n",
    "df.at[index[22],variable] = 'TZA'\n",
    "df.at[index[23],variable] = 'ARE'\n",
    "df.at[index[24],variable] = 'BMU'\n",
    "df.at[index[25],variable] = 'CYM'\n",
    "df.at[index[26],variable] = 'GBR' #by default\n",
    "df.at[index[27],variable] = 'GIB'\n",
    "df.at[index[28],variable] = 'IMN'\n",
    "df.at[index[29],variable] = 'MSR'\n",
    "df.at[index[30],variable] = 'GBR'\n",
    "df.at[index[31],variable] = 'USA'\n",
    "df.at[index[32], variable] = 'VEN'\n",
    "df.at[index[33],variable] = 'VNM'\n",
    "df.at[index[34],variable] = 'SYR'\n",
    "df.at[index[35], variable] = 'LAO'\n",
    "df.at[index[36], variable] = 'AIA'\n",
    "df.at[index[37], variable] = 'VGB'\n",
    "df.at[index[38], variable] = 'TCA'\n",
    "df.at[index[39],variable] = 'BES'\n",
    "df.at[index[40], variable] = 'FLK'\n",
    "df.at[index[41], variable] = 'KOR'\n"
   ]
  },
  {
   "cell_type": "markdown",
   "metadata": {},
   "source": [
    "We will use alpha 3 code to join with other tables."
   ]
  },
  {
   "cell_type": "markdown",
   "metadata": {},
   "source": [
    "## Add variables\n"
   ]
  },
  {
   "cell_type": "markdown",
   "metadata": {},
   "source": [
    "### Temperature "
   ]
  },
  {
   "cell_type": "markdown",
   "metadata": {},
   "source": [
    "Source \n",
    "- https://datacatalog.worldbank.org/dataset/climate-change-knowledge-portal-historical-data"
   ]
  },
  {
   "cell_type": "code",
   "execution_count": 10,
   "metadata": {},
   "outputs": [],
   "source": [
    "temp = pd.read_csv('variable/Global_variable_per-country/temp.csv')"
   ]
  },
  {
   "cell_type": "code",
   "execution_count": 11,
   "metadata": {},
   "outputs": [],
   "source": [
    "# temperature = pd.merge(left=temp, right=df, left_on='ISO_3DIGIT', right_on='Alpha-3 code')\n",
    "\n",
    "df = df.merge(temp, how='left', left_on='Alpha-3 code', right_on='ISO_3DIGIT')\n",
    "df.drop(['Numeric','ISO_3DIGIT'], axis =1, inplace=True)"
   ]
  },
  {
   "cell_type": "code",
   "execution_count": 12,
   "metadata": {},
   "outputs": [
    {
     "data": {
      "text/plain": [
       "38"
      ]
     },
     "execution_count": 12,
     "metadata": {},
     "output_type": "execute_result"
    }
   ],
   "source": [
    "sum(df.Annual_temp.isnull())"
   ]
  },
  {
   "cell_type": "markdown",
   "metadata": {},
   "source": [
    "### Other epidemy "
   ]
  },
  {
   "cell_type": "markdown",
   "metadata": {},
   "source": [
    "SARS-CoV\n",
    "\n",
    "China Canada, Hong Kong Special Administrative Region of China, Chinese Taipei, Singapore, and Hanoi in Viet Nam."
   ]
  },
  {
   "cell_type": "markdown",
   "metadata": {},
   "source": [
    "Ebola \n",
    "\n",
    "The Democratic Republic of the Congo\n",
    "Gabon\n",
    "Guinea\n",
    "Italy\n",
    "Ivory Coast\n",
    "Liberia\n",
    "Mali\n",
    "Nigeria\n",
    "Philippines\n",
    "Russia\n",
    "Senegal\n",
    "Sierra Leone\n",
    "South Africa\n",
    "South Sudan\n",
    "Spain\n",
    "Uganda\n",
    "United Kingdom\n",
    "United States\n",
    "What causes Ebol"
   ]
  },
  {
   "cell_type": "markdown",
   "metadata": {},
   "source": [
    "### Mers\n",
    "\n",
    "https://www.kaggle.com/imdevskp/mers-outbreak-dataset-20122019"
   ]
  },
  {
   "cell_type": "code",
   "execution_count": 13,
   "metadata": {},
   "outputs": [
    {
     "data": {
      "text/plain": [
       "(27, 2)"
      ]
     },
     "execution_count": 13,
     "metadata": {},
     "output_type": "execute_result"
    }
   ],
   "source": [
    "#nb of case in each country for MERS\n",
    "mers = pd.read_csv('variable/Global_variable_per-country/mers/country_count_latest.csv')\n",
    "# mers = pd.read_csv('variable/mers/weekly_clean.csv') # to follow week per week \n",
    "mers.shape"
   ]
  },
  {
   "cell_type": "code",
   "execution_count": 14,
   "metadata": {},
   "outputs": [],
   "source": [
    "df = df.merge(mers, how='left', left_on='Territory', right_on='Country')\n",
    "df['Mers-confirmed'] = df.Confirmed \n",
    "df.drop(['Confirmed'], axis=1, inplace=True)"
   ]
  },
  {
   "cell_type": "code",
   "execution_count": 15,
   "metadata": {},
   "outputs": [],
   "source": [
    "df[\"Mers-confirmed\"] = df[\"Mers-confirmed\"].fillna(0)"
   ]
  },
  {
   "cell_type": "markdown",
   "metadata": {},
   "source": [
    "### Sars \n",
    "https://www.kaggle.com/imdevskp/sars-outbreak-2003-complete-dataset"
   ]
  },
  {
   "cell_type": "code",
   "execution_count": 17,
   "metadata": {},
   "outputs": [],
   "source": [
    "sars = pd.read_csv('variable/Global_variable_per-country/sars/sars_2003.csv')\n",
    "c = list(sars.Country.unique())\n",
    "death_nb = []\n",
    "for country in c:\n",
    "    v = list(sars[sars.Country == country]['Number of deaths'])[len(sars[sars.Country ==country]['Number of deaths'])-1]\n",
    "    death_nb.append(v)"
   ]
  },
  {
   "cell_type": "code",
   "execution_count": 19,
   "metadata": {},
   "outputs": [],
   "source": [
    "sars = pd.DataFrame({'Country':c, 'death_nb_sars': death_nb})\n",
    "df = df.merge(sars, how='left', left_on='Territory', right_on='Country')\n",
    "df.drop(['Country_y',  'Country'], axis=1, inplace=True)\n",
    "df[\"death_nb_sars\"] = df[\"death_nb_sars\"].fillna(0)"
   ]
  },
  {
   "cell_type": "markdown",
   "metadata": {},
   "source": [
    "### Age / density / wealth /sex \n",
    "\n",
    "See relevant indicators\n",
    "\n",
    "http://datatopics.worldbank.org/universal-health-coverage/coronavirus/\n",
    "\n"
   ]
  },
  {
   "cell_type": "markdown",
   "metadata": {},
   "source": [
    "https://datacatalog.worldbank.org/search?search_api_views_fulltext_op=AND&f%5B0%5D=field_collection_field%3A2026&sort_by=field_wbddh_modified_date\n",
    "\n",
    "https://data.worldbank.org/indicator/en.pop.dnst"
   ]
  },
  {
   "cell_type": "code",
   "execution_count": 22,
   "metadata": {},
   "outputs": [],
   "source": [
    "def wordbankdata(variable, tab):\n",
    "    data = pd.read_csv('variable/Global_variable_per-country'+variable+'.csv')\n",
    "    data = data[['Country Code', '2018']]\n",
    "    tab = df.merge(data, how='left', left_on='Alpha-3 code', right_on='Country Code')\n",
    "    tab[variable] = tab['2018']\n",
    "    tab.drop(['2018', 'Country Code'], axis=True, inplace=True)\n",
    "    return(tab)\n",
    "\n",
    "variable = '%+65'"
   ]
  },
  {
   "cell_type": "code",
   "execution_count": 23,
   "metadata": {},
   "outputs": [],
   "source": [
    "df = wordbankdata(variable, df)"
   ]
  },
  {
   "cell_type": "code",
   "execution_count": 24,
   "metadata": {},
   "outputs": [],
   "source": [
    "variable = '15-64pop'\n",
    "df = wordbankdata(variable, df)\n",
    "df = wordbankdata('density', df)\n",
    "df = wordbankdata( 'sex', df)"
   ]
  },
  {
   "cell_type": "code",
   "execution_count": 25,
   "metadata": {},
   "outputs": [
    {
     "name": "stdout",
     "output_type": "stream",
     "text": [
      "23\n",
      "23\n",
      "12\n",
      "23\n"
     ]
    }
   ],
   "source": [
    "## not so many NaN cool !\n",
    "print(sum(df['%+65'].isnull()))\n",
    "print(sum(df['15-64pop'].isnull()))\n",
    "print(sum(df['density'].isnull()))\n",
    "print(sum(df['sex'].isnull()))"
   ]
  },
  {
   "cell_type": "code",
   "execution_count": 26,
   "metadata": {},
   "outputs": [],
   "source": [
    "rich = pd.read_csv('variable/Global_variable_per-country/income.csv')\n",
    "rich = rich[['Country Code', 'IncomeGroup']]\n",
    "df = df.merge(rich, how='left', left_on='Alpha-3 code', right_on='Country Code')\n",
    "df.drop(['Country Code'], axis=1, inplace=True)"
   ]
  },
  {
   "cell_type": "code",
   "execution_count": 27,
   "metadata": {},
   "outputs": [
    {
     "name": "stdout",
     "output_type": "stream",
     "text": [
      "5\n"
     ]
    }
   ],
   "source": [
    "print(sum(df['IncomeGroup'].isnull()))"
   ]
  },
  {
   "cell_type": "markdown",
   "metadata": {},
   "source": [
    "## Tourism"
   ]
  },
  {
   "cell_type": "code",
   "execution_count": 28,
   "metadata": {},
   "outputs": [],
   "source": [
    "tourism = pd.read_csv('variable/Global_variable_per-country/tourism.csv')"
   ]
  },
  {
   "cell_type": "markdown",
   "metadata": {},
   "source": [
    "tourism.count() / len(tourism)\n",
    "Lets take 2011."
   ]
  },
  {
   "cell_type": "code",
   "execution_count": 29,
   "metadata": {},
   "outputs": [],
   "source": [
    "tourism = tourism[['2011','Country Code']]\n",
    "df = df.merge(tourism, how='left', left_on='Alpha-3 code', right_on='Country Code')\n",
    "df.drop(['Country Code'], axis=1, inplace=True)"
   ]
  },
  {
   "cell_type": "code",
   "execution_count": 30,
   "metadata": {},
   "outputs": [],
   "source": [
    "df['tourism'] = df['2011']\n",
    "df.drop(['2011'], axis=1, inplace=True)"
   ]
  },
  {
   "cell_type": "markdown",
   "metadata": {},
   "source": [
    "## Economical factors"
   ]
  },
  {
   "cell_type": "markdown",
   "metadata": {},
   "source": [
    "https://www.kaggle.com/lewisduncan93/the-economic-freedom-index"
   ]
  },
  {
   "cell_type": "code",
   "execution_count": 31,
   "metadata": {},
   "outputs": [],
   "source": [
    "econ = pd.read_csv('variable/Global_variable_per-country/economic_freedom_index2019_data.csv',encoding='latin-1')"
   ]
  },
  {
   "cell_type": "code",
   "execution_count": null,
   "metadata": {},
   "outputs": [],
   "source": [
    "df = df.merge(econ, how='left', left_on='Territory', right_on='Country')"
   ]
  },
  {
   "cell_type": "code",
   "execution_count": 34,
   "metadata": {},
   "outputs": [],
   "source": [
    "df.drop(['Country'], axis=1, inplace=True)"
   ]
  },
  {
   "cell_type": "markdown",
   "metadata": {},
   "source": [
    "## Immunization factor"
   ]
  },
  {
   "cell_type": "markdown",
   "metadata": {},
   "source": [
    "https://www.kaggle.com/lsind18/who-immunization-coverage"
   ]
  },
  {
   "cell_type": "markdown",
   "metadata": {},
   "source": [
    "BCG.csv: the percentage of 1-year-olds who have received one dose of bacille Calmette-Guérin (BCG) vaccine in a given year.\n",
    "\n",
    "DTP3.csv: the percentage of 1-year-olds who have received three doses of the combined diphtheria, tetanus toxoid and pertussis vaccine in a given year.\n",
    "\n",
    "HepB3.csv: the percentage of 1-year-olds who have received three doses of hepatitis B vaccine in a given year.\n",
    "\n",
    "Hib3.csv: the percentage of 1-year-olds who have received three doses of Haemophilus influenzae type B vaccine in a given year.\n",
    "\n",
    "MCV1.csv: the percentage of children under 1 year of age who have received at least one dose of measles-containing vaccine in a given year. For countries recommending the first dose of measles vaccine in children over 12 months of age, the indicator is calculated as the proportion of children less than 12-23 months of age receiving one dose of measles-containing vaccine.\n",
    "\n",
    "MCV2.csv: the percentage of children who have received two doses of measles containing vaccine (MCV2) in a given year, according to the nationally recommended schedule.\n",
    "\n",
    "PAB.csv: the proportion of neonates in a given year that can be considered as having been protected against tetanus as a result of maternal immunization.\n",
    "\n",
    "PCV3.csv: the percentage of 1-year-olds who have received three doses of pneumococcal conjugate vaccine (PCV3) in a given year.\n",
    "\n",
    "Pol3.csv: the percentage of 1-year-olds who have received three doses of polio vaccine in a given year.\n",
    "\n",
    "ROTAC.csv: the percentage of surviving infants who received the final recommended dose of rotavirus vaccine, which can be either the 2nd or the 3rd dose depending on the vaccine in a given year.\n"
   ]
  },
  {
   "cell_type": "markdown",
   "metadata": {},
   "source": [
    "who-immunization-coverage folder"
   ]
  },
  {
   "cell_type": "markdown",
   "metadata": {},
   "source": [
    "We will take the year 2018 (most recent and less NaN values)."
   ]
  },
  {
   "cell_type": "code",
   "execution_count": 35,
   "metadata": {},
   "outputs": [],
   "source": [
    "import glob\n",
    "\n",
    "for files in glob.glob(\"variable/Global_variable_per-country/who-immunization-coverage/*.csv\"):\n",
    "    data_immuno = pd.read_csv(files)\n",
    "    data_immuno = data_immuno[[' 2018','Country']]\n",
    "    df = df.merge(data_immuno, how='left', left_on='Territory', right_on='Country')\n",
    "    name = files[35:39]\n",
    "    df[name]= df[' 2018']\n",
    "    df.drop([' 2018','Country'], axis=1, inplace=True)\n",
    "    \n"
   ]
  },
  {
   "cell_type": "markdown",
   "metadata": {},
   "source": [
    "## Split by continent"
   ]
  },
  {
   "cell_type": "code",
   "execution_count": 36,
   "metadata": {},
   "outputs": [],
   "source": [
    "continent = pd.read_csv('variable/Global_variable_per-country/locations.csv')\n",
    "continent.drop(['location', 'population_year','population'], axis=1, inplace=True)\n",
    "df = df.merge(continent, how='left', left_on='Territory', right_on='countriesAndTerritories')\n",
    "df.drop(['countriesAndTerritories'], axis=1, inplace=True)"
   ]
  },
  {
   "cell_type": "code",
   "execution_count": 37,
   "metadata": {},
   "outputs": [],
   "source": [
    "index = df[df['continent'].isnull()].index\n",
    "variable = 'continent'\n",
    "df.at[index[0], variable] = 'Island'\n",
    "df.at[index[1], variable] = 'Island'\n",
    "df.at[index[2], variable] = 'South America'\n",
    "df.at[index[3], variable] = 'Europe'\n",
    "df.at[index[4], variable] = 'Asia'\n",
    "df.at[index[5], variable] = 'Africa'\n",
    "df.at[index[6], variable] = 'Island'\n",
    "df.at[index[7], variable] = 'Africa'\n",
    "df.at[index[8], variable] = 'Africa'\n",
    "df.at[index[9],variable] = 'Africa'\n",
    "df.at[index[10],variable] = 'Africa'\n",
    "df.at[index[11], variable] = 'South America'\n",
    "df.at[index[12], variable] = 'Africa'\n",
    "df.at[index[13], variable] = 'Island'\n",
    "df.at[index[14],variable] = 'Island'\n",
    "df.at[index[15],variable] = 'South America'\n",
    "df.at[index[16],variable] = 'Africa'\n",
    "df.at[index[17], variable] = 'South America'\n",
    "df.at[index[18], variable] = 'Island'\n",
    "df.at[index[19], variable] = 'Island'\n",
    "df.at[index[20], variable] = 'Island'\n",
    "df.at[index[21], variable] = 'Island'\n",
    "df.at[index[22],variable] = 'Island'\n",
    "df.at[index[23],variable] = 'Island'\n",
    "df.at[index[24],variable] = 'Island'\n",
    "df.at[index[25],variable] = 'Africa'\n",
    "df.at[index[26],variable] = 'Asia'\n",
    "df.at[index[27],variable] = 'Asia'\n",
    "df.at[index[28],variable] = 'Europe'\n",
    "df.at[index[29],variable] = 'Island'\n",
    "df.at[index[30],variable] = 'Island'\n",
    "df.at[index[31],variable] = 'Island'\n",
    "df.at[index[32], variable] = 'Africa'\n",
    "df.at[index[33],variable] = 'Europe'\n",
    "df.at[index[34],variable] = 'Island'\n",
    "df.at[index[35], variable] = 'Asia'\n",
    "df.at[index[36], variable] = 'Asia'\n",
    "df.at[index[37], variable] = 'Island'\n",
    "df.at[index[38], variable] = 'Island'\n",
    "df.at[index[39],variable] = 'Europe'\n",
    "df.at[index[40], variable] = 'Asia'\n",
    "df.at[index[41], variable] = 'Africa'\n",
    "df.at[index[42], variable] = 'Asia'\n",
    "df.at[index[43], variable] = 'Africa'\n",
    "df.at[index[44], variable] = 'Africa'\n",
    "df.at[index[45], variable] = 'South America'\n",
    "df.at[index[46], variable] = 'Asia'\n",
    "df.at[index[47], variable] = 'Island'\n",
    "df.at[index[48], variable] = 'Island'\n",
    "df.at[index[49],variable] = 'Europe'\n",
    "df.at[index[50], variable] = 'Island'\n",
    "df.at[index[51],variable] = 'Europe'\n",
    "df.at[index[52], variable] = 'North America'\n",
    "df.at[index[53], variable] = 'Asia'\n",
    "df.at[index[54], variable] = 'Asia'\n",
    "df.at[index[55], variable] = 'Island'\n",
    "df.at[index[56], variable] = 'Asia'\n",
    "df.at[index[57], variable] = 'Africa'\n",
    "df.at[index[58], variable] = 'Island'\n",
    "df.at[index[59], variable] = 'Island'\n",
    "df.at[index[60], variable] = 'Island'\n",
    "df.at[index[61], variable] = 'Island'\n",
    "df.at[index[62], variable] = 'Africa'\n",
    "df.at[index[63], variable] = 'Island'\n",
    "df.at[index[64], variable] = 'Island'\n",
    "df.at[index[65], variable] = 'Africa'\n",
    "df.at[index[66], variable] = 'Island'\n",
    "df.at[index[67], variable] = 'Island'\n",
    "df.at[index[68], variable] = 'Island'\n",
    "df.at[index[69], variable] = 'Island'\n",
    "df.at[index[70], variable] = 'Africa'\n",
    "df.at[index[71], variable] = 'Island'\n",
    "df.at[index[72], variable] = 'Island'\n",
    "df.at[index[73], variable] = 'Island'\n",
    "df.at[index[74], variable] = 'Island'\n",
    "df.at[index[75], variable] = 'Asia'\n",
    "df.at[index[76], variable] = 'Island'\n",
    "df.at[index[77], variable] = 'Island'\n",
    "df.at[index[78], variable] = 'Africa'\n",
    "df.at[index[79],variable] = 'Asia'\n",
    "df.at[index[80], variable] = 'Island'\n",
    "df.at[index[81],variable] = 'Asia'\n",
    "df.at[index[82], variable] = 'Island'\n",
    "df.at[index[83], variable] = 'Island'\n",
    "df.at[index[84],variable] = 'Asia'"
   ]
  },
  {
   "cell_type": "code",
   "execution_count": 38,
   "metadata": {},
   "outputs": [
    {
     "data": {
      "text/plain": [
       "array(['Asia', 'Europe', 'Africa', 'Island', 'South America', 'Oceania',\n",
       "       'North America'], dtype=object)"
      ]
     },
     "execution_count": 38,
     "metadata": {},
     "output_type": "execute_result"
    }
   ],
   "source": [
    "df.continent.unique()"
   ]
  },
  {
   "cell_type": "markdown",
   "metadata": {},
   "source": [
    "## Commorbidity / Risk Factors"
   ]
  },
  {
   "cell_type": "markdown",
   "metadata": {},
   "source": [
    "### Obesity \n",
    "\n",
    "https://www.kaggle.com/arttua/who-obesity-by-country-2016"
   ]
  },
  {
   "cell_type": "code",
   "execution_count": 39,
   "metadata": {},
   "outputs": [],
   "source": [
    "obesity = pd.read_csv('variable/Global_variable_per-country/obesity.csv')\n",
    "obesity['Country'] = obesity['Unnamed: 0']\n",
    "obesity.drop('Unnamed: 0', axis=1, inplace=True)"
   ]
  },
  {
   "cell_type": "code",
   "execution_count": 47,
   "metadata": {},
   "outputs": [],
   "source": [
    "obesity.rename(columns={'Both.sexes':'pop_obsesity',\n",
    "                        'Male':'Male_obesity','Female':'Female_obesity'}, inplace=True)"
   ]
  },
  {
   "cell_type": "code",
   "execution_count": 52,
   "metadata": {},
   "outputs": [],
   "source": [
    "df = df.merge(obesity, how='left', left_on='Territory', right_on='Country')\n",
    "df.drop(['Country'], axis=1, inplace=True)"
   ]
  },
  {
   "cell_type": "markdown",
   "metadata": {},
   "source": [
    "## Medical care\n",
    "\n",
    "### Hospital beds\n",
    "\n",
    "https://www.kaggle.com/hamzael1/hospital-beds-by-country"
   ]
  },
  {
   "cell_type": "code",
   "execution_count": 54,
   "metadata": {},
   "outputs": [],
   "source": [
    "beds = pd.read_csv('variable/Global_variable_per-country/beds.csv')"
   ]
  },
  {
   "cell_type": "raw",
   "metadata": {},
   "source": [
    "beds.count() / len(beds)\n",
    "\n",
    "We will take the year 2011."
   ]
  },
  {
   "cell_type": "code",
   "execution_count": 57,
   "metadata": {},
   "outputs": [],
   "source": [
    "beds= beds[['Country Code', '2011']]"
   ]
  },
  {
   "cell_type": "code",
   "execution_count": 60,
   "metadata": {},
   "outputs": [],
   "source": [
    "beds.rename(columns={'2011':'nb_beds'}, inplace=True)"
   ]
  },
  {
   "cell_type": "code",
   "execution_count": 62,
   "metadata": {},
   "outputs": [],
   "source": [
    "df = df.merge(beds, how='left', left_on='Alpha-3 code', right_on='Country Code')\n",
    "df.drop(['Country Code'], axis=1, inplace=True)"
   ]
  },
  {
   "cell_type": "markdown",
   "metadata": {},
   "source": [
    "### Health Systems - WHO \n"
   ]
  },
  {
   "cell_type": "code",
   "execution_count": 64,
   "metadata": {},
   "outputs": [],
   "source": [
    "hs = pd.read_csv('variable/Global_variable_per-country/Health_systems.csv')"
   ]
  },
  {
   "cell_type": "code",
   "execution_count": 65,
   "metadata": {},
   "outputs": [
    {
     "data": {
      "text/plain": [
       "(210, 14)"
      ]
     },
     "execution_count": 65,
     "metadata": {},
     "output_type": "execute_result"
    }
   ],
   "source": [
    "hs.shape"
   ]
  },
  {
   "cell_type": "code",
   "execution_count": 67,
   "metadata": {},
   "outputs": [],
   "source": [
    "hs.drop(['Province_State','World_Bank_Name'], axis=1, inplace=True)"
   ]
  },
  {
   "cell_type": "code",
   "execution_count": 69,
   "metadata": {},
   "outputs": [],
   "source": [
    "df = df.merge(hs, how='left', left_on='Territory', right_on='Country_Region')\n",
    "df.drop(['Country_Region'], axis=1, inplace=True)"
   ]
  },
  {
   "cell_type": "markdown",
   "metadata": {},
   "source": [
    "### Pollution ?\n",
    "https://www.kaggle.com/kweinmeister/pm25-global-air-pollution-20102017"
   ]
  },
  {
   "cell_type": "code",
   "execution_count": 71,
   "metadata": {},
   "outputs": [
    {
     "data": {
      "text/plain": [
       "(351, 174)"
      ]
     },
     "execution_count": 71,
     "metadata": {},
     "output_type": "execute_result"
    }
   ],
   "source": [
    "df.shape"
   ]
  },
  {
   "cell_type": "code",
   "execution_count": null,
   "metadata": {},
   "outputs": [],
   "source": []
  },
  {
   "cell_type": "code",
   "execution_count": null,
   "metadata": {},
   "outputs": [],
   "source": []
  },
  {
   "cell_type": "code",
   "execution_count": null,
   "metadata": {},
   "outputs": [],
   "source": []
  },
  {
   "cell_type": "code",
   "execution_count": null,
   "metadata": {},
   "outputs": [],
   "source": []
  },
  {
   "cell_type": "code",
   "execution_count": null,
   "metadata": {},
   "outputs": [],
   "source": []
  }
 ],
 "metadata": {
  "kernelspec": {
   "display_name": "Python 3",
   "language": "python",
   "name": "python3"
  },
  "language_info": {
   "codemirror_mode": {
    "name": "ipython",
    "version": 3
   },
   "file_extension": ".py",
   "mimetype": "text/x-python",
   "name": "python",
   "nbconvert_exporter": "python",
   "pygments_lexer": "ipython3",
   "version": "3.7.3"
  }
 },
 "nbformat": 4,
 "nbformat_minor": 2
}
