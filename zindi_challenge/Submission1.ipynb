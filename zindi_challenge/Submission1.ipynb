{
 "cells": [
  {
   "cell_type": "markdown",
   "metadata": {},
   "source": [
    "# Zindi - Challenge\n",
    "\n",
    "https://zindi.africa/competitions/predict-the-global-spread-of-covid-19\n",
    "\n",
    "April 9, 2020"
   ]
  },
  {
   "cell_type": "code",
   "execution_count": 1,
   "metadata": {},
   "outputs": [],
   "source": [
    "import pandas as pd\n",
    "import seaborn as sns\n",
    "import matplotlib as plt \n",
    "import requests\n",
    "import lxml.html as lh"
   ]
  },
  {
   "cell_type": "markdown",
   "metadata": {},
   "source": [
    "## Import Data"
   ]
  },
  {
   "cell_type": "code",
   "execution_count": 2,
   "metadata": {},
   "outputs": [
    {
     "data": {
      "text/plain": [
       "(274, 84)"
      ]
     },
     "execution_count": 2,
     "metadata": {},
     "output_type": "execute_result"
    }
   ],
   "source": [
    "#Read train \n",
    "deaths = pd.read_csv('data/deaths.csv')\n",
    "cases = pd.read_csv('data/cases.csv')\n",
    "deaths.drop(['Province/State'], axis=True)\n",
    "deaths.shape"
   ]
  },
  {
   "cell_type": "raw",
   "metadata": {},
   "source": [
    "#transpose data frame\n",
    "deaths.T "
   ]
  },
  {
   "cell_type": "markdown",
   "metadata": {},
   "source": [
    "## Add variables\n"
   ]
  },
  {
   "cell_type": "markdown",
   "metadata": {},
   "source": [
    "### Temperature "
   ]
  },
  {
   "cell_type": "code",
   "execution_count": 3,
   "metadata": {},
   "outputs": [],
   "source": [
    "def web_scraping_data(link):\n",
    "    #Create a handle, page, to handle the contents of the website\n",
    "    page = requests.get(link)\n",
    "    doc = lh.fromstring(page.content)\n",
    "    tr_elements = doc.xpath('//tr')\n",
    "\n",
    "    tr_elements = doc.xpath('//tr')\n",
    "    col=[]\n",
    "    i=0\n",
    "    for t in tr_elements[0]:\n",
    "        i+=1\n",
    "        name=t.text_content()\n",
    "        #print ('%d:\"%s\"'%(i,name))\n",
    "        col.append((name,[]))\n",
    "\n",
    "    for j in range(1,len(tr_elements)):\n",
    "        T=tr_elements[j]\n",
    "        i=0\n",
    "\n",
    "        for t in T.iterchildren():\n",
    "            data=t.text_content() \n",
    "            if i>0:\n",
    "                try:\n",
    "                    data=int(data)\n",
    "                except:\n",
    "                    pass\n",
    "\n",
    "            col[i][1].append(data)\n",
    "            i+=1\n",
    "\n",
    "    Dict={title:column for (title,column) in col}\n",
    "    df=pd.DataFrame(Dict)\n",
    "    \n",
    "    return df"
   ]
  },
  {
   "cell_type": "code",
   "execution_count": 4,
   "metadata": {},
   "outputs": [],
   "source": [
    "code_country = web_scraping_data(\"https://www.iban.com/country-codes\")"
   ]
  },
  {
   "cell_type": "code",
   "execution_count": 5,
   "metadata": {},
   "outputs": [
    {
     "data": {
      "text/plain": [
       "(249, 4)"
      ]
     },
     "execution_count": 5,
     "metadata": {},
     "output_type": "execute_result"
    }
   ],
   "source": [
    "code_country.shape"
   ]
  },
  {
   "cell_type": "markdown",
   "metadata": {},
   "source": [
    "Source \n",
    "- https://datacatalog.worldbank.org/dataset/climate-change-knowledge-portal-historical-data"
   ]
  },
  {
   "cell_type": "code",
   "execution_count": 6,
   "metadata": {},
   "outputs": [],
   "source": [
    "temp = pd.read_csv('variable/temp.csv')"
   ]
  },
  {
   "cell_type": "code",
   "execution_count": 7,
   "metadata": {},
   "outputs": [
    {
     "data": {
      "text/plain": [
       "(178, 14)"
      ]
     },
     "execution_count": 7,
     "metadata": {},
     "output_type": "execute_result"
    }
   ],
   "source": [
    "temp.shape"
   ]
  },
  {
   "cell_type": "code",
   "execution_count": 8,
   "metadata": {},
   "outputs": [],
   "source": [
    "temperature = pd.merge(left=temp, right=code_country, left_on='ISO_3DIGIT', right_on='Alpha-3 code')"
   ]
  },
  {
   "cell_type": "code",
   "execution_count": 9,
   "metadata": {},
   "outputs": [],
   "source": [
    "temperature = temperature.drop(['Numeric','Alpha-2 code'], axis=True)"
   ]
  },
  {
   "cell_type": "code",
   "execution_count": 10,
   "metadata": {},
   "outputs": [],
   "source": [
    "death1 = pd.merge(left=deaths, right=temperature, left_on='Territory', right_on='Country')"
   ]
  },
  {
   "cell_type": "code",
   "execution_count": 11,
   "metadata": {},
   "outputs": [
    {
     "data": {
      "text/plain": [
       "(229, 100)"
      ]
     },
     "execution_count": 11,
     "metadata": {},
     "output_type": "execute_result"
    }
   ],
   "source": [
    "death1.shape"
   ]
  },
  {
   "cell_type": "markdown",
   "metadata": {},
   "source": [
    "I am loosing 45 countries which are "
   ]
  },
  {
   "cell_type": "code",
   "execution_count": 12,
   "metadata": {},
   "outputs": [
    {
     "data": {
      "text/plain": [
       "['Andorra',\n",
       " 'Antigua and Barbuda',\n",
       " 'Bahrain',\n",
       " 'Barbados',\n",
       " 'Cabo Verde',\n",
       " 'Democratic Republic of the Congo (the)',\n",
       " 'Faroe Islands',\n",
       " 'Greenland',\n",
       " 'French Polynesia',\n",
       " 'Mayotte',\n",
       " 'Reunion',\n",
       " 'Saint Barthelemy',\n",
       " 'St Martin',\n",
       " \"Democratic People's Republic of Korea (the)\",\n",
       " 'Liechtenstein',\n",
       " 'Maldives',\n",
       " 'Malta',\n",
       " 'Republic of Moldova (the)',\n",
       " 'Monaco',\n",
       " 'Aruba',\n",
       " 'Curacao',\n",
       " 'North Macedonia',\n",
       " 'Saint Lucia',\n",
       " 'San Marino',\n",
       " 'Seychelles',\n",
       " 'Singapore',\n",
       " 'Taiwan',\n",
       " 'United Republic of Tanzania (the)',\n",
       " 'Bermuda',\n",
       " 'Cayman Islands',\n",
       " 'Montserrat',\n",
       " 'Dominica',\n",
       " 'Grenada',\n",
       " 'Syrian Arab Republic (the)',\n",
       " 'Saint Kitts and Nevis',\n",
       " 'Sao Tome and Principe',\n",
       " 'Kiribati',\n",
       " 'Marshall Islands (the)',\n",
       " 'Micronesia (Federated States of)',\n",
       " 'Nauru',\n",
       " 'Palau',\n",
       " 'Republic of Korea (the)',\n",
       " 'Samoa',\n",
       " 'Tonga',\n",
       " 'Tuvalu']"
      ]
     },
     "execution_count": 12,
     "metadata": {},
     "output_type": "execute_result"
    }
   ],
   "source": [
    "l1 = list(death1.Country)\n",
    "l2 = list(deaths.Territory)\n",
    "[x for x in l2 if x not in l1]"
   ]
  },
  {
   "cell_type": "markdown",
   "metadata": {},
   "source": [
    "### Others epidemy "
   ]
  },
  {
   "cell_type": "markdown",
   "metadata": {},
   "source": [
    "SARS-CoV\n",
    "\n",
    "China Canada, Hong Kong Special Administrative Region of China, Chinese Taipei, Singapore, and Hanoi in Viet Nam."
   ]
  },
  {
   "cell_type": "markdown",
   "metadata": {},
   "source": [
    "Ebola \n",
    "\n",
    "The Democratic Republic of the Congo\n",
    "Gabon\n",
    "Guinea\n",
    "Italy\n",
    "Ivory Coast\n",
    "Liberia\n",
    "Mali\n",
    "Nigeria\n",
    "Philippines\n",
    "Russia\n",
    "Senegal\n",
    "Sierra Leone\n",
    "South Africa\n",
    "South Sudan\n",
    "Spain\n",
    "Uganda\n",
    "United Kingdom\n",
    "United States\n",
    "What causes Ebol"
   ]
  },
  {
   "cell_type": "markdown",
   "metadata": {},
   "source": []
  },
  {
   "cell_type": "markdown",
   "metadata": {},
   "source": [
    "### Age / density / wealth /sex "
   ]
  },
  {
   "cell_type": "markdown",
   "metadata": {},
   "source": [
    "https://datacatalog.worldbank.org/search?search_api_views_fulltext_op=AND&f%5B0%5D=field_collection_field%3A2026&sort_by=field_wbddh_modified_date\n",
    "\n",
    "https://data.worldbank.org/indicator/en.pop.dnst"
   ]
  },
  {
   "cell_type": "code",
   "execution_count": 13,
   "metadata": {},
   "outputs": [],
   "source": [
    "def wordbankdata(variable, tab):\n",
    "    data = pd.read_csv('variable/'+variable+'.csv')\n",
    "    data = data[['Country Code', '2018']]\n",
    "    death = pd.merge(left=data, right=tab, left_on='Country Code', right_on='Alpha-3 code')\n",
    "    death[variable] = death['2018']\n",
    "    death.drop(['2018'], axis=True, inplace=True)\n",
    "    return(death)\n",
    "\n",
    "variable = '%+65'"
   ]
  },
  {
   "cell_type": "code",
   "execution_count": 14,
   "metadata": {},
   "outputs": [],
   "source": [
    "death2 = wordbankdata(variable, death1)"
   ]
  },
  {
   "cell_type": "code",
   "execution_count": 15,
   "metadata": {},
   "outputs": [
    {
     "data": {
      "text/plain": [
       "['French Guiana', 'Guadeloupe']"
      ]
     },
     "execution_count": 15,
     "metadata": {},
     "output_type": "execute_result"
    }
   ],
   "source": [
    "l1 = list(death1.Country)\n",
    "l2 = list(death2.Country)\n",
    "[x for x in l1 if x not in l2]"
   ]
  },
  {
   "cell_type": "code",
   "execution_count": 16,
   "metadata": {},
   "outputs": [],
   "source": [
    "variable = '15-64pop'\n",
    "death2 = wordbankdata(variable, death2)\n",
    "death2 = wordbankdata('density', death2)\n",
    "death2 = wordbankdata( 'sex', death2)"
   ]
  },
  {
   "cell_type": "code",
   "execution_count": 17,
   "metadata": {},
   "outputs": [],
   "source": [
    "rich = pd.read_csv('variable/income.csv')\n",
    "rich = rich[['Country Code', 'IncomeGroup']]"
   ]
  },
  {
   "cell_type": "code",
   "execution_count": 18,
   "metadata": {},
   "outputs": [],
   "source": [
    "death2 = pd.merge(left=rich, right=death2, left_on='Country Code', right_on='Alpha-3 code')"
   ]
  },
  {
   "cell_type": "code",
   "execution_count": 19,
   "metadata": {},
   "outputs": [],
   "source": [
    "death2.drop(['Alpha-3 code','Country Code_y', 'Country Code_x','Country Code_y' ,'Country'], axis=1, inplace=True)\n"
   ]
  },
  {
   "cell_type": "code",
   "execution_count": 20,
   "metadata": {},
   "outputs": [
    {
     "data": {
      "text/html": [
       "<div>\n",
       "<style scoped>\n",
       "    .dataframe tbody tr th:only-of-type {\n",
       "        vertical-align: middle;\n",
       "    }\n",
       "\n",
       "    .dataframe tbody tr th {\n",
       "        vertical-align: top;\n",
       "    }\n",
       "\n",
       "    .dataframe thead th {\n",
       "        text-align: right;\n",
       "    }\n",
       "</style>\n",
       "<table border=\"1\" class=\"dataframe\">\n",
       "  <thead>\n",
       "    <tr style=\"text-align: right;\">\n",
       "      <th></th>\n",
       "      <th>Country Code</th>\n",
       "      <th>IncomeGroup</th>\n",
       "      <th>Province/State</th>\n",
       "      <th>Country/Region</th>\n",
       "      <th>Territory</th>\n",
       "      <th>Population</th>\n",
       "      <th>Lat</th>\n",
       "      <th>Long</th>\n",
       "      <th>1/22/20</th>\n",
       "      <th>1/23/20</th>\n",
       "      <th>...</th>\n",
       "      <th>Aug_Temp</th>\n",
       "      <th>Sept_temp</th>\n",
       "      <th>Oct_temp</th>\n",
       "      <th>Nov_Temp</th>\n",
       "      <th>Dec_temp</th>\n",
       "      <th>Annual_temp</th>\n",
       "      <th>%+65</th>\n",
       "      <th>15-64pop</th>\n",
       "      <th>density</th>\n",
       "      <th>sex</th>\n",
       "    </tr>\n",
       "  </thead>\n",
       "  <tbody>\n",
       "    <tr>\n",
       "      <th>0</th>\n",
       "      <td>AFG</td>\n",
       "      <td>Low income</td>\n",
       "      <td>NaN</td>\n",
       "      <td>Afghanistan</td>\n",
       "      <td>Afghanistan</td>\n",
       "      <td>26023100.0</td>\n",
       "      <td>33.0000</td>\n",
       "      <td>65.0000</td>\n",
       "      <td>0</td>\n",
       "      <td>0</td>\n",
       "      <td>...</td>\n",
       "      <td>23.77</td>\n",
       "      <td>19.03</td>\n",
       "      <td>12.99</td>\n",
       "      <td>7.00</td>\n",
       "      <td>2.43</td>\n",
       "      <td>12.92</td>\n",
       "      <td>2.584927</td>\n",
       "      <td>54.324898</td>\n",
       "      <td>56.937760</td>\n",
       "      <td>48.635847</td>\n",
       "    </tr>\n",
       "    <tr>\n",
       "      <th>1</th>\n",
       "      <td>AGO</td>\n",
       "      <td>Lower middle income</td>\n",
       "      <td>NaN</td>\n",
       "      <td>Angola</td>\n",
       "      <td>Angola</td>\n",
       "      <td>24383301.0</td>\n",
       "      <td>-11.2027</td>\n",
       "      <td>17.8739</td>\n",
       "      <td>0</td>\n",
       "      <td>0</td>\n",
       "      <td>...</td>\n",
       "      <td>19.90</td>\n",
       "      <td>22.19</td>\n",
       "      <td>23.18</td>\n",
       "      <td>22.79</td>\n",
       "      <td>22.61</td>\n",
       "      <td>21.51</td>\n",
       "      <td>2.216374</td>\n",
       "      <td>50.974702</td>\n",
       "      <td>24.713052</td>\n",
       "      <td>50.530463</td>\n",
       "    </tr>\n",
       "    <tr>\n",
       "      <th>2</th>\n",
       "      <td>ALB</td>\n",
       "      <td>Upper middle income</td>\n",
       "      <td>NaN</td>\n",
       "      <td>Albania</td>\n",
       "      <td>Albania</td>\n",
       "      <td>2895947.0</td>\n",
       "      <td>41.1533</td>\n",
       "      <td>20.1683</td>\n",
       "      <td>0</td>\n",
       "      <td>0</td>\n",
       "      <td>...</td>\n",
       "      <td>20.48</td>\n",
       "      <td>17.16</td>\n",
       "      <td>12.27</td>\n",
       "      <td>7.58</td>\n",
       "      <td>3.65</td>\n",
       "      <td>11.27</td>\n",
       "      <td>13.744736</td>\n",
       "      <td>68.582390</td>\n",
       "      <td>104.612263</td>\n",
       "      <td>49.063095</td>\n",
       "    </tr>\n",
       "    <tr>\n",
       "      <th>3</th>\n",
       "      <td>ARE</td>\n",
       "      <td>High income</td>\n",
       "      <td>NaN</td>\n",
       "      <td>United Arab Emirates</td>\n",
       "      <td>United Arab Emirates (the)</td>\n",
       "      <td>NaN</td>\n",
       "      <td>24.0000</td>\n",
       "      <td>54.0000</td>\n",
       "      <td>0</td>\n",
       "      <td>0</td>\n",
       "      <td>...</td>\n",
       "      <td>33.55</td>\n",
       "      <td>31.74</td>\n",
       "      <td>28.34</td>\n",
       "      <td>24.06</td>\n",
       "      <td>20.28</td>\n",
       "      <td>26.83</td>\n",
       "      <td>1.085001</td>\n",
       "      <td>84.311490</td>\n",
       "      <td>135.609110</td>\n",
       "      <td>30.636688</td>\n",
       "    </tr>\n",
       "    <tr>\n",
       "      <th>4</th>\n",
       "      <td>ARG</td>\n",
       "      <td>Upper middle income</td>\n",
       "      <td>NaN</td>\n",
       "      <td>Argentina</td>\n",
       "      <td>Argentina</td>\n",
       "      <td>42669500.0</td>\n",
       "      <td>-38.4161</td>\n",
       "      <td>-63.6167</td>\n",
       "      <td>0</td>\n",
       "      <td>0</td>\n",
       "      <td>...</td>\n",
       "      <td>9.02</td>\n",
       "      <td>11.53</td>\n",
       "      <td>14.67</td>\n",
       "      <td>17.54</td>\n",
       "      <td>19.83</td>\n",
       "      <td>14.22</td>\n",
       "      <td>11.117789</td>\n",
       "      <td>64.121277</td>\n",
       "      <td>16.258510</td>\n",
       "      <td>51.237348</td>\n",
       "    </tr>\n",
       "  </tbody>\n",
       "</table>\n",
       "<p>5 rows × 104 columns</p>\n",
       "</div>"
      ],
      "text/plain": [
       "  Country Code          IncomeGroup Province/State        Country/Region  \\\n",
       "0          AFG           Low income            NaN           Afghanistan   \n",
       "1          AGO  Lower middle income            NaN                Angola   \n",
       "2          ALB  Upper middle income            NaN               Albania   \n",
       "3          ARE          High income            NaN  United Arab Emirates   \n",
       "4          ARG  Upper middle income            NaN             Argentina   \n",
       "\n",
       "                    Territory  Population      Lat     Long  1/22/20  1/23/20  \\\n",
       "0                 Afghanistan  26023100.0  33.0000  65.0000        0        0   \n",
       "1                      Angola  24383301.0 -11.2027  17.8739        0        0   \n",
       "2                     Albania   2895947.0  41.1533  20.1683        0        0   \n",
       "3  United Arab Emirates (the)         NaN  24.0000  54.0000        0        0   \n",
       "4                   Argentina  42669500.0 -38.4161 -63.6167        0        0   \n",
       "\n",
       "   ...  Aug_Temp  Sept_temp  Oct_temp  Nov_Temp  Dec_temp  Annual_temp  \\\n",
       "0  ...     23.77      19.03     12.99      7.00      2.43        12.92   \n",
       "1  ...     19.90      22.19     23.18     22.79     22.61        21.51   \n",
       "2  ...     20.48      17.16     12.27      7.58      3.65        11.27   \n",
       "3  ...     33.55      31.74     28.34     24.06     20.28        26.83   \n",
       "4  ...      9.02      11.53     14.67     17.54     19.83        14.22   \n",
       "\n",
       "        %+65   15-64pop     density        sex  \n",
       "0   2.584927  54.324898   56.937760  48.635847  \n",
       "1   2.216374  50.974702   24.713052  50.530463  \n",
       "2  13.744736  68.582390  104.612263  49.063095  \n",
       "3   1.085001  84.311490  135.609110  30.636688  \n",
       "4  11.117789  64.121277   16.258510  51.237348  \n",
       "\n",
       "[5 rows x 104 columns]"
      ]
     },
     "execution_count": 20,
     "metadata": {},
     "output_type": "execute_result"
    }
   ],
   "source": [
    "death2.head()"
   ]
  },
  {
   "cell_type": "code",
   "execution_count": 21,
   "metadata": {},
   "outputs": [
    {
     "data": {
      "text/plain": [
       "(227, 104)"
      ]
     },
     "execution_count": 21,
     "metadata": {},
     "output_type": "execute_result"
    }
   ],
   "source": [
    "death2.shape"
   ]
  },
  {
   "cell_type": "code",
   "execution_count": 22,
   "metadata": {},
   "outputs": [
    {
     "data": {
      "text/plain": [
       "(274, 84)"
      ]
     },
     "execution_count": 22,
     "metadata": {},
     "output_type": "execute_result"
    }
   ],
   "source": [
    "deaths.shape"
   ]
  },
  {
   "cell_type": "markdown",
   "metadata": {},
   "source": [
    "## Split by continent"
   ]
  },
  {
   "cell_type": "code",
   "execution_count": 23,
   "metadata": {},
   "outputs": [],
   "source": [
    "continent = pd.read_csv('variable/locations.csv')"
   ]
  },
  {
   "cell_type": "code",
   "execution_count": 24,
   "metadata": {},
   "outputs": [
    {
     "data": {
      "text/html": [
       "<div>\n",
       "<style scoped>\n",
       "    .dataframe tbody tr th:only-of-type {\n",
       "        vertical-align: middle;\n",
       "    }\n",
       "\n",
       "    .dataframe tbody tr th {\n",
       "        vertical-align: top;\n",
       "    }\n",
       "\n",
       "    .dataframe thead th {\n",
       "        text-align: right;\n",
       "    }\n",
       "</style>\n",
       "<table border=\"1\" class=\"dataframe\">\n",
       "  <thead>\n",
       "    <tr style=\"text-align: right;\">\n",
       "      <th></th>\n",
       "      <th>countriesAndTerritories</th>\n",
       "      <th>location</th>\n",
       "      <th>continent</th>\n",
       "      <th>population_year</th>\n",
       "      <th>population</th>\n",
       "    </tr>\n",
       "  </thead>\n",
       "  <tbody>\n",
       "    <tr>\n",
       "      <th>0</th>\n",
       "      <td>Afghanistan</td>\n",
       "      <td>Afghanistan</td>\n",
       "      <td>Asia</td>\n",
       "      <td>2020.0</td>\n",
       "      <td>38928341.0</td>\n",
       "    </tr>\n",
       "    <tr>\n",
       "      <th>1</th>\n",
       "      <td>Albania</td>\n",
       "      <td>Albania</td>\n",
       "      <td>Europe</td>\n",
       "      <td>2020.0</td>\n",
       "      <td>2877800.0</td>\n",
       "    </tr>\n",
       "    <tr>\n",
       "      <th>2</th>\n",
       "      <td>Algeria</td>\n",
       "      <td>Algeria</td>\n",
       "      <td>Africa</td>\n",
       "      <td>2020.0</td>\n",
       "      <td>43851043.0</td>\n",
       "    </tr>\n",
       "    <tr>\n",
       "      <th>3</th>\n",
       "      <td>Andorra</td>\n",
       "      <td>Andorra</td>\n",
       "      <td>Europe</td>\n",
       "      <td>2020.0</td>\n",
       "      <td>77265.0</td>\n",
       "    </tr>\n",
       "    <tr>\n",
       "      <th>4</th>\n",
       "      <td>Angola</td>\n",
       "      <td>Angola</td>\n",
       "      <td>Africa</td>\n",
       "      <td>2020.0</td>\n",
       "      <td>32866268.0</td>\n",
       "    </tr>\n",
       "  </tbody>\n",
       "</table>\n",
       "</div>"
      ],
      "text/plain": [
       "  countriesAndTerritories     location continent  population_year  population\n",
       "0             Afghanistan  Afghanistan      Asia           2020.0  38928341.0\n",
       "1                 Albania      Albania    Europe           2020.0   2877800.0\n",
       "2                 Algeria      Algeria    Africa           2020.0  43851043.0\n",
       "3                 Andorra      Andorra    Europe           2020.0     77265.0\n",
       "4                  Angola       Angola    Africa           2020.0  32866268.0"
      ]
     },
     "execution_count": 24,
     "metadata": {},
     "output_type": "execute_result"
    }
   ],
   "source": [
    "continent.head()"
   ]
  },
  {
   "cell_type": "code",
   "execution_count": 25,
   "metadata": {},
   "outputs": [
    {
     "data": {
      "text/plain": [
       "(207, 5)"
      ]
     },
     "execution_count": 25,
     "metadata": {},
     "output_type": "execute_result"
    }
   ],
   "source": [
    "continent.shape"
   ]
  },
  {
   "cell_type": "code",
   "execution_count": 26,
   "metadata": {},
   "outputs": [],
   "source": [
    "continent.drop(['population_year','population','countriesAndTerritories'], axis=1, inplace=True)"
   ]
  },
  {
   "cell_type": "code",
   "execution_count": 27,
   "metadata": {},
   "outputs": [],
   "source": [
    "death2 = pd.merge(left=continent, right=death1, left_on='location', right_on='Country/Region')"
   ]
  },
  {
   "cell_type": "code",
   "execution_count": 28,
   "metadata": {},
   "outputs": [
    {
     "data": {
      "text/plain": [
       "(216, 102)"
      ]
     },
     "execution_count": 28,
     "metadata": {},
     "output_type": "execute_result"
    }
   ],
   "source": [
    "death2.shape"
   ]
  },
  {
   "cell_type": "code",
   "execution_count": 29,
   "metadata": {},
   "outputs": [
    {
     "ename": "NameError",
     "evalue": "name 'death4' is not defined",
     "output_type": "error",
     "traceback": [
      "\u001b[0;31m---------------------------------------------------------------------------\u001b[0m",
      "\u001b[0;31mNameError\u001b[0m                                 Traceback (most recent call last)",
      "\u001b[0;32m<ipython-input-29-a2abb23a740e>\u001b[0m in \u001b[0;36m<module>\u001b[0;34m\u001b[0m\n\u001b[0;32m----> 1\u001b[0;31m \u001b[0ml1\u001b[0m \u001b[0;34m=\u001b[0m \u001b[0mlist\u001b[0m\u001b[0;34m(\u001b[0m\u001b[0mdeath4\u001b[0m\u001b[0;34m.\u001b[0m\u001b[0mlocation\u001b[0m\u001b[0;34m)\u001b[0m\u001b[0;34m\u001b[0m\u001b[0;34m\u001b[0m\u001b[0m\n\u001b[0m\u001b[1;32m      2\u001b[0m \u001b[0ml2\u001b[0m \u001b[0;34m=\u001b[0m \u001b[0mlist\u001b[0m\u001b[0;34m(\u001b[0m\u001b[0mdeath3\u001b[0m\u001b[0;34m[\u001b[0m\u001b[0;34m'Country/Region'\u001b[0m\u001b[0;34m]\u001b[0m\u001b[0;34m)\u001b[0m\u001b[0;34m\u001b[0m\u001b[0;34m\u001b[0m\u001b[0m\n\u001b[1;32m      3\u001b[0m \u001b[0;34m[\u001b[0m\u001b[0mx\u001b[0m \u001b[0;32mfor\u001b[0m \u001b[0mx\u001b[0m \u001b[0;32min\u001b[0m \u001b[0ml2\u001b[0m \u001b[0;32mif\u001b[0m \u001b[0mx\u001b[0m \u001b[0;32mnot\u001b[0m \u001b[0;32min\u001b[0m \u001b[0ml1\u001b[0m\u001b[0;34m]\u001b[0m\u001b[0;34m\u001b[0m\u001b[0;34m\u001b[0m\u001b[0m\n",
      "\u001b[0;31mNameError\u001b[0m: name 'death4' is not defined"
     ]
    }
   ],
   "source": [
    "l1 = list(death4.location)\n",
    "l2 = list(death3['Country/Region'])\n",
    "[x for x in l2 if x not in l1]"
   ]
  },
  {
   "cell_type": "code",
   "execution_count": null,
   "metadata": {},
   "outputs": [],
   "source": [
    "death4.head()"
   ]
  },
  {
   "cell_type": "code",
   "execution_count": null,
   "metadata": {},
   "outputs": [],
   "source": []
  },
  {
   "cell_type": "markdown",
   "metadata": {},
   "source": [
    "### Infected cases March 1 / March 15 / March 30"
   ]
  },
  {
   "cell_type": "markdown",
   "metadata": {},
   "source": [
    "We take the number of cases every 15 days since the beginning of March. "
   ]
  },
  {
   "cell_type": "code",
   "execution_count": null,
   "metadata": {},
   "outputs": [],
   "source": [
    "cases = pd.read_csv('data/cases.csv')"
   ]
  },
  {
   "cell_type": "code",
   "execution_count": null,
   "metadata": {},
   "outputs": [],
   "source": [
    "cases[['2/15/20', '3/1/20', '3/30/20', '3/30/20', 'Country/Region']]"
   ]
  },
  {
   "cell_type": "markdown",
   "metadata": {},
   "source": [
    "## Commorbidity / Risk Factors"
   ]
  },
  {
   "cell_type": "markdown",
   "metadata": {},
   "source": [
    "### Obesity \n",
    "\n",
    "https://www.kaggle.com/arttua/who-obesity-by-country-2016"
   ]
  },
  {
   "cell_type": "code",
   "execution_count": null,
   "metadata": {},
   "outputs": [],
   "source": [
    "obesity = pd.read_csv('variable/obesity.csv')\n",
    "obesity['Country'] = obesity['Unnamed: 0']\n",
    "obesity.drop('Unnamed: 0', axis=1, inplace=True)"
   ]
  },
  {
   "cell_type": "code",
   "execution_count": null,
   "metadata": {},
   "outputs": [],
   "source": [
    "death3 = pd.merge(left=obesity, right=death2, left_on='Country', right_on='Country/Region')\n",
    "death3.shape"
   ]
  },
  {
   "cell_type": "code",
   "execution_count": null,
   "metadata": {},
   "outputs": [],
   "source": [
    "death2.shape"
   ]
  },
  {
   "cell_type": "markdown",
   "metadata": {},
   "source": [
    "### "
   ]
  },
  {
   "cell_type": "code",
   "execution_count": null,
   "metadata": {},
   "outputs": [],
   "source": []
  },
  {
   "cell_type": "markdown",
   "metadata": {},
   "source": [
    "## Medical care\n",
    "\n",
    "### Hospital beds\n",
    "\n",
    "https://www.kaggle.com/hamzael1/hospital-beds-by-country"
   ]
  },
  {
   "cell_type": "code",
   "execution_count": null,
   "metadata": {},
   "outputs": [],
   "source": [
    "beds = pd.read_csv('variable/beds.csv')"
   ]
  },
  {
   "cell_type": "code",
   "execution_count": null,
   "metadata": {},
   "outputs": [],
   "source": [
    "beds.count() / len(beds)"
   ]
  },
  {
   "cell_type": "code",
   "execution_count": null,
   "metadata": {},
   "outputs": [],
   "source": [
    "beds= beds[['Country Code', '2011']]"
   ]
  },
  {
   "cell_type": "markdown",
   "metadata": {},
   "source": [
    "MERGE !"
   ]
  },
  {
   "cell_type": "markdown",
   "metadata": {},
   "source": [
    "### Health Systems - WHO \n"
   ]
  },
  {
   "cell_type": "code",
   "execution_count": null,
   "metadata": {},
   "outputs": [],
   "source": [
    "hs = pd.read_csv('variable/Health_systems.csv')"
   ]
  },
  {
   "cell_type": "code",
   "execution_count": null,
   "metadata": {},
   "outputs": [],
   "source": [
    "hs.shape"
   ]
  },
  {
   "cell_type": "code",
   "execution_count": null,
   "metadata": {},
   "outputs": [],
   "source": []
  },
  {
   "cell_type": "markdown",
   "metadata": {},
   "source": [
    "## Strict mesure de confinement \n",
    "\n",
    "1 - 10"
   ]
  },
  {
   "cell_type": "code",
   "execution_count": null,
   "metadata": {},
   "outputs": [],
   "source": []
  },
  {
   "cell_type": "code",
   "execution_count": null,
   "metadata": {},
   "outputs": [],
   "source": []
  },
  {
   "cell_type": "code",
   "execution_count": null,
   "metadata": {},
   "outputs": [],
   "source": []
  },
  {
   "cell_type": "code",
   "execution_count": null,
   "metadata": {},
   "outputs": [],
   "source": []
  },
  {
   "cell_type": "code",
   "execution_count": null,
   "metadata": {},
   "outputs": [],
   "source": []
  },
  {
   "cell_type": "code",
   "execution_count": null,
   "metadata": {},
   "outputs": [],
   "source": []
  },
  {
   "cell_type": "code",
   "execution_count": null,
   "metadata": {},
   "outputs": [],
   "source": []
  },
  {
   "cell_type": "code",
   "execution_count": null,
   "metadata": {},
   "outputs": [],
   "source": [
    "sum(deaths.Territory == 'France')"
   ]
  },
  {
   "cell_type": "code",
   "execution_count": null,
   "metadata": {},
   "outputs": [],
   "source": [
    "deaths[deaths.Territory == 'France']"
   ]
  },
  {
   "cell_type": "code",
   "execution_count": null,
   "metadata": {},
   "outputs": [],
   "source": []
  }
 ],
 "metadata": {
  "kernelspec": {
   "display_name": "Python 3",
   "language": "python",
   "name": "python3"
  },
  "language_info": {
   "codemirror_mode": {
    "name": "ipython",
    "version": 3
   },
   "file_extension": ".py",
   "mimetype": "text/x-python",
   "name": "python",
   "nbconvert_exporter": "python",
   "pygments_lexer": "ipython3",
   "version": "3.7.3"
  }
 },
 "nbformat": 4,
 "nbformat_minor": 2
}
