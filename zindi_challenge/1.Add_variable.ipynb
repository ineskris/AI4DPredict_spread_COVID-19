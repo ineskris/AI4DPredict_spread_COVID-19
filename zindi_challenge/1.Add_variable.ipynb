{
 "cells": [
  {
   "cell_type": "markdown",
   "metadata": {},
   "source": [
    "# Zindi - Challenge\n",
    "\n",
    "https://zindi.africa/competitions/predict-the-global-spread-of-covid-19\n",
    "\n",
    "April 9, 2020"
   ]
  },
  {
   "cell_type": "code",
   "execution_count": 109,
   "metadata": {},
   "outputs": [],
   "source": [
    "import pandas as pd\n",
    "import seaborn as sns\n",
    "import matplotlib as plt \n",
    "import requests\n",
    "import lxml.html as lh"
   ]
  },
  {
   "cell_type": "markdown",
   "metadata": {},
   "source": [
    "Only the folder Global_variable_per-country was used."
   ]
  },
  {
   "cell_type": "markdown",
   "metadata": {},
   "source": [
    "## Import Data"
   ]
  },
  {
   "cell_type": "code",
   "execution_count": 110,
   "metadata": {},
   "outputs": [
    {
     "data": {
      "text/plain": [
       "(274, 84)"
      ]
     },
     "execution_count": 110,
     "metadata": {},
     "output_type": "execute_result"
    }
   ],
   "source": [
    "#Read train \n",
    "deaths = pd.read_csv('data/deaths.csv')\n",
    "cases = pd.read_csv('data/cases.csv')\n",
    "deaths.drop(['Province/State'], axis=True)\n",
    "deaths.shape"
   ]
  },
  {
   "cell_type": "raw",
   "metadata": {},
   "source": [
    "#transpose data frame\n",
    "deaths.T "
   ]
  },
  {
   "cell_type": "code",
   "execution_count": 111,
   "metadata": {},
   "outputs": [
    {
     "data": {
      "text/html": [
       "<div>\n",
       "<style scoped>\n",
       "    .dataframe tbody tr th:only-of-type {\n",
       "        vertical-align: middle;\n",
       "    }\n",
       "\n",
       "    .dataframe tbody tr th {\n",
       "        vertical-align: top;\n",
       "    }\n",
       "\n",
       "    .dataframe thead th {\n",
       "        text-align: right;\n",
       "    }\n",
       "</style>\n",
       "<table border=\"1\" class=\"dataframe\">\n",
       "  <thead>\n",
       "    <tr style=\"text-align: right;\">\n",
       "      <th></th>\n",
       "      <th>Province/State</th>\n",
       "      <th>Country/Region</th>\n",
       "      <th>Territory</th>\n",
       "      <th>Population</th>\n",
       "      <th>Lat</th>\n",
       "      <th>Long</th>\n",
       "      <th>1/22/20</th>\n",
       "      <th>1/23/20</th>\n",
       "      <th>1/24/20</th>\n",
       "      <th>1/25/20</th>\n",
       "      <th>...</th>\n",
       "      <th>3/30/20</th>\n",
       "      <th>3/31/20</th>\n",
       "      <th>4/1/20</th>\n",
       "      <th>4/2/20</th>\n",
       "      <th>4/3/20</th>\n",
       "      <th>4/4/20</th>\n",
       "      <th>4/5/20</th>\n",
       "      <th>4/6/20</th>\n",
       "      <th>4/7/20</th>\n",
       "      <th>4/8/20</th>\n",
       "    </tr>\n",
       "  </thead>\n",
       "  <tbody>\n",
       "    <tr>\n",
       "      <th>0</th>\n",
       "      <td>NaN</td>\n",
       "      <td>Afghanistan</td>\n",
       "      <td>Afghanistan</td>\n",
       "      <td>26023100.0</td>\n",
       "      <td>33.0000</td>\n",
       "      <td>65.0000</td>\n",
       "      <td>0</td>\n",
       "      <td>0</td>\n",
       "      <td>0</td>\n",
       "      <td>0</td>\n",
       "      <td>...</td>\n",
       "      <td>4</td>\n",
       "      <td>4</td>\n",
       "      <td>4</td>\n",
       "      <td>6</td>\n",
       "      <td>6</td>\n",
       "      <td>7</td>\n",
       "      <td>7</td>\n",
       "      <td>11</td>\n",
       "      <td>14</td>\n",
       "      <td>14</td>\n",
       "    </tr>\n",
       "    <tr>\n",
       "      <th>1</th>\n",
       "      <td>NaN</td>\n",
       "      <td>Albania</td>\n",
       "      <td>Albania</td>\n",
       "      <td>2895947.0</td>\n",
       "      <td>41.1533</td>\n",
       "      <td>20.1683</td>\n",
       "      <td>0</td>\n",
       "      <td>0</td>\n",
       "      <td>0</td>\n",
       "      <td>0</td>\n",
       "      <td>...</td>\n",
       "      <td>11</td>\n",
       "      <td>15</td>\n",
       "      <td>15</td>\n",
       "      <td>16</td>\n",
       "      <td>17</td>\n",
       "      <td>20</td>\n",
       "      <td>20</td>\n",
       "      <td>21</td>\n",
       "      <td>22</td>\n",
       "      <td>22</td>\n",
       "    </tr>\n",
       "  </tbody>\n",
       "</table>\n",
       "<p>2 rows × 84 columns</p>\n",
       "</div>"
      ],
      "text/plain": [
       "  Province/State Country/Region    Territory  Population      Lat     Long  \\\n",
       "0            NaN    Afghanistan  Afghanistan  26023100.0  33.0000  65.0000   \n",
       "1            NaN        Albania      Albania   2895947.0  41.1533  20.1683   \n",
       "\n",
       "   1/22/20  1/23/20  1/24/20  1/25/20  ...  3/30/20  3/31/20  4/1/20  4/2/20  \\\n",
       "0        0        0        0        0  ...        4        4       4       6   \n",
       "1        0        0        0        0  ...       11       15      15      16   \n",
       "\n",
       "   4/3/20  4/4/20  4/5/20  4/6/20  4/7/20  4/8/20  \n",
       "0       6       7       7      11      14      14  \n",
       "1      17      20      20      21      22      22  \n",
       "\n",
       "[2 rows x 84 columns]"
      ]
     },
     "execution_count": 111,
     "metadata": {},
     "output_type": "execute_result"
    }
   ],
   "source": [
    "deaths.head(2)"
   ]
  },
  {
   "cell_type": "markdown",
   "metadata": {},
   "source": [
    "Compare the 1st 3 columns."
   ]
  },
  {
   "cell_type": "code",
   "execution_count": 112,
   "metadata": {},
   "outputs": [
    {
     "data": {
      "text/plain": [
       "274"
      ]
     },
     "execution_count": 112,
     "metadata": {},
     "output_type": "execute_result"
    }
   ],
   "source": [
    "#no missing values\n",
    "sum(deaths['Country/Region'].isnull() == False)"
   ]
  },
  {
   "cell_type": "raw",
   "metadata": {},
   "source": [
    "l1=deaths['Country/Region'].unique()\n",
    "l2=deaths['Territory'].unique()\n",
    "len([value for value in l1 if value in l2] )"
   ]
  },
  {
   "cell_type": "raw",
   "metadata": {},
   "source": [
    "len([x for x in l2 if x not in l1])\n",
    "[x for x in l2 if x not in l1]"
   ]
  },
  {
   "cell_type": "raw",
   "metadata": {},
   "source": [
    "len([x for x in l1 if x not in l2])\n",
    "[x for x in l1 if x not in l2]"
   ]
  },
  {
   "cell_type": "raw",
   "metadata": {},
   "source": [
    "len(deaths['Territory'].unique())"
   ]
  },
  {
   "cell_type": "raw",
   "metadata": {},
   "source": [
    "len(deaths['Province/State'].unique())"
   ]
  },
  {
   "cell_type": "raw",
   "metadata": {},
   "source": [
    "deaths[deaths['Province/State'].isnull() == False]"
   ]
  },
  {
   "cell_type": "markdown",
   "metadata": {},
   "source": [
    "We will use 'Country/Region'. \n"
   ]
  },
  {
   "cell_type": "code",
   "execution_count": 113,
   "metadata": {},
   "outputs": [],
   "source": [
    "country = deaths['Country/Region']"
   ]
  },
  {
   "cell_type": "raw",
   "metadata": {},
   "source": [
    "deaths.iloc[220:225,]"
   ]
  },
  {
   "cell_type": "raw",
   "metadata": {},
   "source": [
    "deaths[deaths.Population.isnull()]"
   ]
  },
  {
   "cell_type": "code",
   "execution_count": 114,
   "metadata": {},
   "outputs": [],
   "source": [
    "## Fill in NaN values for Population\n",
    "index = deaths[deaths.Population.isnull()].index\n",
    "# updated in 2017\n",
    "deaths.at[index[0], 'Population'] = 76965 \n",
    "deaths.at[index[1], 'Population'] = 395361\n",
    "deaths.at[index[2], 'Population'] = 11.05e+06\n",
    "deaths.at[index[3], 'Population'] = 428697\n",
    "deaths.at[index[4], 'Population'] = 546388 \n",
    "deaths.at[index[5], 'Population'] = 4.659e+06\n",
    "deaths.at[index[6], 'Population'] = 5.261e+06\n",
    "deaths.at[index[7], 'Population'] = 81.34e+06\n",
    "deaths.at[index[8], 'Population'] = 24.29e+06 # Cote d'Ivoire\n",
    "deaths.at[index[10], 'Population'] = 10.77e+06\n",
    "deaths.at[index[11], 'Population'] = 1.367e+06\n",
    "deaths.at[index[12], 'Population'] = 2.101e+06\n",
    "deaths.at[index[13], 'Population'] = 81.16e+06\n",
    "deaths.at[index[14], 'Population'] = 51.47e+06\n",
    "deaths.at[index[15], 'Population'] = 3.55e+06\n",
    "deaths.at[index[17], 'Population'] = 105264\n",
    "deaths.at[index[18], 'Population'] = 161014\n",
    "deaths.at[index[19], 'Population'] = 41109 \n",
    "deaths.at[index[21], 'Population'] = 21.48e+06\n",
    "deaths.at[index[23], 'Population'] = 104.9e+06\n",
    "deaths.at[index[24], 'Population'] = 144.5e+06\n",
    "deaths.at[index[25], 'Population'] = 7.022e+06\n",
    "deaths.at[index[26], 'Population'] = 12.58e+06\n",
    "deaths.at[index[28], 'Population'] = 57.31e+06\n",
    "deaths.at[index[29], 'Population'] = 9.4e+06\n",
    "deaths.at[index[30], 'Population'] = 65441\n",
    "deaths.at[index[31], 'Population'] = 61559\n",
    "deaths.at[index[32], 'Population'] = 170499\n",
    "deaths.at[index[33], 'Population'] = 34571\n",
    "deaths.at[index[34], 'Population'] = 84287\n",
    "deaths.at[index[35], 'Population'] = 5900 #2008\n",
    "deaths.at[index[38], 'Population'] = 31.98e+06\n",
    "deaths.at[index[39], 'Population'] = 95.54e+06\n",
    "deaths.at[index[40], 'Population'] = 18.27e+06\n",
    "deaths.at[index[41], 'Population'] = 1.296e+06\n",
    "deaths.at[index[42], 'Population'] = 6.858e+06\n",
    "deaths.at[index[43], 'Population'] = 15094\n",
    "deaths.at[index[44], 'Population'] = 31196\n",
    "deaths.at[index[45], 'Population'] = 35446\n",
    "deaths.at[index[46], 'Population'] = 25157\n",
    "deaths.at[index[47], 'Population'] = 2840\n",
    "deaths.at[index[48], 'Population'] = 204327\n",
    "deaths.at[index[49], 'Population'] = 813912\n",
    "deaths.at[index[50], 'Population'] = 53127\n",
    "deaths.at[index[51], 'Population'] = 105544\n",
    "deaths.at[index[52], 'Population'] = 53.37e+06\n",
    "deaths.at[index[53], 'Population'] = 51.47e+06\n",
    "deaths.at[index[54], 'Population'] = 40.53e+06\n",
    "\n",
    "#2018 \n",
    "deaths.at[index[27], 'Population'] = 23.78e+06\n",
    "deaths.at[index[37], 'Population'] = 327.2e+06\n",
    "#2019\n",
    "deaths.at[index[9], 'Population'] = 10.65e+06\n",
    "deaths.at[index[20], 'Population'] = 17.28e+06\n",
    "deaths.at[index[22], 'Population'] = 2.077e+06\n",
    "deaths.at[index[36], 'Population'] = 6.65e+06\n",
    "\n",
    "#2020\n",
    "deaths.at[index[16], 'Population'] = 631219\n",
    "\n",
    "\n",
    "\n"
   ]
  },
  {
   "cell_type": "markdown",
   "metadata": {},
   "source": [
    "No more NaN values for population. "
   ]
  },
  {
   "cell_type": "markdown",
   "metadata": {},
   "source": [
    "Add a code country column."
   ]
  },
  {
   "cell_type": "code",
   "execution_count": 115,
   "metadata": {},
   "outputs": [],
   "source": [
    "def web_scraping_data(link):\n",
    "    #Create a handle, page, to handle the contents of the website\n",
    "    page = requests.get(link)\n",
    "    doc = lh.fromstring(page.content)\n",
    "    tr_elements = doc.xpath('//tr')\n",
    "\n",
    "    tr_elements = doc.xpath('//tr')\n",
    "    col=[]\n",
    "    i=0\n",
    "    for t in tr_elements[0]:\n",
    "        i+=1\n",
    "        name=t.text_content()\n",
    "        #print ('%d:\"%s\"'%(i,name))\n",
    "        col.append((name,[]))\n",
    "\n",
    "    for j in range(1,len(tr_elements)):\n",
    "        T=tr_elements[j]\n",
    "        i=0\n",
    "\n",
    "        for t in T.iterchildren():\n",
    "            data=t.text_content() \n",
    "            if i>0:\n",
    "                try:\n",
    "                    data=int(data)\n",
    "                except:\n",
    "                    pass\n",
    "\n",
    "            col[i][1].append(data)\n",
    "            i+=1\n",
    "\n",
    "    Dict={title:column for (title,column) in col}\n",
    "    df=pd.DataFrame(Dict)\n",
    "    \n",
    "    return df"
   ]
  },
  {
   "cell_type": "code",
   "execution_count": 118,
   "metadata": {},
   "outputs": [],
   "source": [
    "code_country = web_scraping_data(\"https://www.iban.com/country-codes\")\n",
    "df = deaths.merge(code_country, how='left', left_on='Country/Region', right_on='Country')"
   ]
  },
  {
   "cell_type": "raw",
   "metadata": {},
   "source": [
    "df[df['Alpha-3 code'].isnull()]"
   ]
  },
  {
   "cell_type": "code",
   "execution_count": 119,
   "metadata": {},
   "outputs": [],
   "source": [
    "## Fill in NaN values for alpha 3 code \n",
    "index = df[df['Alpha-3 code'].isnull()].index\n",
    "variable = 'Alpha-3 code'\n",
    "df.at[index[0], variable] = 'BHS'\n",
    "df.at[index[1], variable] = 'BOL'\n",
    "df.at[index[2], variable] = 'BRN'\n",
    "df.at[index[3], variable] = 'CAF'\n",
    "df.at[index[4], variable] = 'COG'\n",
    "df.at[index[5], variable] = 'COD'\n",
    "df.at[index[6], variable] = 'CIV'\n",
    "df.at[index[7], variable] = 'DOM'\n",
    "df.at[index[8], variable] = 'GMB'\n",
    "df.at[index[9],variable] = 'IRN'\n",
    "df.at[index[10],variable] = 'PRK'\n",
    "df.at[index[11], variable] = 'MDA'\n",
    "df.at[index[12], variable] = 'ABW'\n",
    "df.at[index[13], variable] = 'CUW'\n",
    "df.at[index[14],variable] = 'SXM'\n",
    "df.at[index[15],variable] = 'NLD'\n",
    "df.at[index[16],variable] = 'NER'\n",
    "df.at[index[17], variable] = 'MKD'\n",
    "df.at[index[18], variable] = 'PHL'\n",
    "df.at[index[19], variable] = 'RUS'\n",
    "df.at[index[20], variable] = 'SSD'\n",
    "df.at[index[21], variable] = 'TWN'\n",
    "df.at[index[22],variable] = 'TZA'\n",
    "df.at[index[23],variable] = 'ARE'\n",
    "df.at[index[24],variable] = 'BMU'\n",
    "df.at[index[25],variable] = 'CYM'\n",
    "df.at[index[26],variable] = 'GBR' #by default\n",
    "df.at[index[27],variable] = 'GIB'\n",
    "df.at[index[28],variable] = 'IMN'\n",
    "df.at[index[29],variable] = 'MSR'\n",
    "df.at[index[30],variable] = 'GBR'\n",
    "df.at[index[31],variable] = 'USA'\n",
    "df.at[index[32], variable] = 'VEN'\n",
    "df.at[index[33],variable] = 'VNM'\n",
    "df.at[index[34],variable] = 'SYR'\n",
    "df.at[index[35], variable] = 'LAO'\n",
    "df.at[index[36], variable] = 'AIA'\n",
    "df.at[index[37], variable] = 'VGB'\n",
    "df.at[index[38], variable] = 'TCA'\n",
    "df.at[index[39],variable] = 'BES'\n",
    "df.at[index[40], variable] = 'FLK'\n",
    "df.at[index[41], variable] = 'KOR'\n"
   ]
  },
  {
   "cell_type": "markdown",
   "metadata": {},
   "source": [
    "We will use alpha 3 code to join with other tables."
   ]
  },
  {
   "cell_type": "markdown",
   "metadata": {},
   "source": [
    "## Add variables\n"
   ]
  },
  {
   "cell_type": "markdown",
   "metadata": {},
   "source": [
    "### Temperature "
   ]
  },
  {
   "cell_type": "markdown",
   "metadata": {},
   "source": [
    "Source \n",
    "- https://datacatalog.worldbank.org/dataset/climate-change-knowledge-portal-historical-data"
   ]
  },
  {
   "cell_type": "code",
   "execution_count": 120,
   "metadata": {},
   "outputs": [],
   "source": [
    "temp = pd.read_csv('variable/Global_variable_per-country/temp.csv')"
   ]
  },
  {
   "cell_type": "code",
   "execution_count": 121,
   "metadata": {},
   "outputs": [
    {
     "data": {
      "text/html": [
       "<div>\n",
       "<style scoped>\n",
       "    .dataframe tbody tr th:only-of-type {\n",
       "        vertical-align: middle;\n",
       "    }\n",
       "\n",
       "    .dataframe tbody tr th {\n",
       "        vertical-align: top;\n",
       "    }\n",
       "\n",
       "    .dataframe thead th {\n",
       "        text-align: right;\n",
       "    }\n",
       "</style>\n",
       "<table border=\"1\" class=\"dataframe\">\n",
       "  <thead>\n",
       "    <tr style=\"text-align: right;\">\n",
       "      <th></th>\n",
       "      <th>ISO_3DIGIT</th>\n",
       "      <th>Jan_Temp</th>\n",
       "      <th>Feb_temp</th>\n",
       "      <th>Mar_temp</th>\n",
       "      <th>Apr_Temp</th>\n",
       "      <th>May_temp</th>\n",
       "      <th>Jun_Temp</th>\n",
       "      <th>July_Temp</th>\n",
       "      <th>Aug_Temp</th>\n",
       "      <th>Sept_temp</th>\n",
       "      <th>Oct_temp</th>\n",
       "      <th>Nov_Temp</th>\n",
       "      <th>Dec_temp</th>\n",
       "      <th>Annual_temp</th>\n",
       "    </tr>\n",
       "  </thead>\n",
       "  <tbody>\n",
       "    <tr>\n",
       "      <th>0</th>\n",
       "      <td>AFG</td>\n",
       "      <td>0.07</td>\n",
       "      <td>2.11</td>\n",
       "      <td>7.60</td>\n",
       "      <td>13.37</td>\n",
       "      <td>18.22</td>\n",
       "      <td>23.20</td>\n",
       "      <td>25.26</td>\n",
       "      <td>23.77</td>\n",
       "      <td>19.03</td>\n",
       "      <td>12.99</td>\n",
       "      <td>7.00</td>\n",
       "      <td>2.43</td>\n",
       "      <td>12.92</td>\n",
       "    </tr>\n",
       "    <tr>\n",
       "      <th>1</th>\n",
       "      <td>AGO</td>\n",
       "      <td>22.58</td>\n",
       "      <td>22.68</td>\n",
       "      <td>22.78</td>\n",
       "      <td>22.35</td>\n",
       "      <td>20.74</td>\n",
       "      <td>18.37</td>\n",
       "      <td>17.95</td>\n",
       "      <td>19.90</td>\n",
       "      <td>22.19</td>\n",
       "      <td>23.18</td>\n",
       "      <td>22.79</td>\n",
       "      <td>22.61</td>\n",
       "      <td>21.51</td>\n",
       "    </tr>\n",
       "    <tr>\n",
       "      <th>2</th>\n",
       "      <td>ALB</td>\n",
       "      <td>2.02</td>\n",
       "      <td>3.22</td>\n",
       "      <td>6.04</td>\n",
       "      <td>9.92</td>\n",
       "      <td>14.44</td>\n",
       "      <td>17.93</td>\n",
       "      <td>20.54</td>\n",
       "      <td>20.48</td>\n",
       "      <td>17.16</td>\n",
       "      <td>12.27</td>\n",
       "      <td>7.58</td>\n",
       "      <td>3.65</td>\n",
       "      <td>11.27</td>\n",
       "    </tr>\n",
       "    <tr>\n",
       "      <th>3</th>\n",
       "      <td>ARE</td>\n",
       "      <td>18.43</td>\n",
       "      <td>19.43</td>\n",
       "      <td>22.61</td>\n",
       "      <td>26.58</td>\n",
       "      <td>30.62</td>\n",
       "      <td>32.46</td>\n",
       "      <td>33.80</td>\n",
       "      <td>33.55</td>\n",
       "      <td>31.74</td>\n",
       "      <td>28.34</td>\n",
       "      <td>24.06</td>\n",
       "      <td>20.28</td>\n",
       "      <td>26.83</td>\n",
       "    </tr>\n",
       "    <tr>\n",
       "      <th>4</th>\n",
       "      <td>ARG</td>\n",
       "      <td>20.80</td>\n",
       "      <td>19.90</td>\n",
       "      <td>17.51</td>\n",
       "      <td>14.05</td>\n",
       "      <td>10.65</td>\n",
       "      <td>7.66</td>\n",
       "      <td>7.42</td>\n",
       "      <td>9.02</td>\n",
       "      <td>11.53</td>\n",
       "      <td>14.67</td>\n",
       "      <td>17.54</td>\n",
       "      <td>19.83</td>\n",
       "      <td>14.22</td>\n",
       "    </tr>\n",
       "  </tbody>\n",
       "</table>\n",
       "</div>"
      ],
      "text/plain": [
       "  ISO_3DIGIT  Jan_Temp  Feb_temp  Mar_temp  Apr_Temp  May_temp  Jun_Temp  \\\n",
       "0        AFG      0.07      2.11      7.60     13.37     18.22     23.20   \n",
       "1        AGO     22.58     22.68     22.78     22.35     20.74     18.37   \n",
       "2        ALB      2.02      3.22      6.04      9.92     14.44     17.93   \n",
       "3        ARE     18.43     19.43     22.61     26.58     30.62     32.46   \n",
       "4        ARG     20.80     19.90     17.51     14.05     10.65      7.66   \n",
       "\n",
       "   July_Temp  Aug_Temp  Sept_temp  Oct_temp  Nov_Temp  Dec_temp  Annual_temp  \n",
       "0      25.26     23.77      19.03     12.99      7.00      2.43        12.92  \n",
       "1      17.95     19.90      22.19     23.18     22.79     22.61        21.51  \n",
       "2      20.54     20.48      17.16     12.27      7.58      3.65        11.27  \n",
       "3      33.80     33.55      31.74     28.34     24.06     20.28        26.83  \n",
       "4       7.42      9.02      11.53     14.67     17.54     19.83        14.22  "
      ]
     },
     "execution_count": 121,
     "metadata": {},
     "output_type": "execute_result"
    }
   ],
   "source": [
    "temp.head()"
   ]
  },
  {
   "cell_type": "code",
   "execution_count": 122,
   "metadata": {},
   "outputs": [],
   "source": [
    "# temperature = pd.merge(left=temp, right=df, left_on='ISO_3DIGIT', right_on='Alpha-3 code')\n",
    "\n",
    "df = df.merge(temp, how='left', left_on='Alpha-3 code', right_on='ISO_3DIGIT')\n",
    "df.drop(['Numeric','ISO_3DIGIT'], axis =1, inplace=True)"
   ]
  },
  {
   "cell_type": "code",
   "execution_count": 123,
   "metadata": {},
   "outputs": [
    {
     "data": {
      "text/plain": [
       "38"
      ]
     },
     "execution_count": 123,
     "metadata": {},
     "output_type": "execute_result"
    }
   ],
   "source": [
    "sum(df.Annual_temp.isnull())"
   ]
  },
  {
   "cell_type": "markdown",
   "metadata": {},
   "source": [
    "### Other epidemy "
   ]
  },
  {
   "cell_type": "markdown",
   "metadata": {},
   "source": [
    "SARS-CoV\n",
    "\n",
    "China Canada, Hong Kong Special Administrative Region of China, Chinese Taipei, Singapore, and Hanoi in Viet Nam."
   ]
  },
  {
   "cell_type": "markdown",
   "metadata": {},
   "source": [
    "Ebola \n",
    "\n",
    "The Democratic Republic of the Congo\n",
    "Gabon\n",
    "Guinea\n",
    "Italy\n",
    "Ivory Coast\n",
    "Liberia\n",
    "Mali\n",
    "Nigeria\n",
    "Philippines\n",
    "Russia\n",
    "Senegal\n",
    "Sierra Leone\n",
    "South Africa\n",
    "South Sudan\n",
    "Spain\n",
    "Uganda\n",
    "United Kingdom\n",
    "United States\n",
    "What causes Ebol"
   ]
  },
  {
   "cell_type": "markdown",
   "metadata": {},
   "source": [
    "### Mers\n",
    "\n",
    "https://www.kaggle.com/imdevskp/mers-outbreak-dataset-20122019"
   ]
  },
  {
   "cell_type": "code",
   "execution_count": 124,
   "metadata": {},
   "outputs": [
    {
     "data": {
      "text/plain": [
       "(27, 2)"
      ]
     },
     "execution_count": 124,
     "metadata": {},
     "output_type": "execute_result"
    }
   ],
   "source": [
    "#nb of case in each country for MERS\n",
    "mers = pd.read_csv('variable/Global_variable_per-country/mers/country_count_latest.csv')\n",
    "# mers = pd.read_csv('variable/mers/weekly_clean.csv') # to follow week per week \n",
    "mers.shape"
   ]
  },
  {
   "cell_type": "code",
   "execution_count": 125,
   "metadata": {},
   "outputs": [],
   "source": [
    "df = df.merge(mers, how='left', left_on='Territory', right_on='Country')\n",
    "df['Mers-confirmed'] = df.Confirmed \n",
    "df.drop(['Confirmed'], axis=1, inplace=True)"
   ]
  },
  {
   "cell_type": "code",
   "execution_count": 126,
   "metadata": {},
   "outputs": [],
   "source": [
    "df[\"Mers-confirmed\"] = df[\"Mers-confirmed\"].fillna(0)"
   ]
  },
  {
   "cell_type": "markdown",
   "metadata": {},
   "source": [
    "### Sars \n",
    "https://www.kaggle.com/imdevskp/sars-outbreak-2003-complete-dataset"
   ]
  },
  {
   "cell_type": "code",
   "execution_count": 127,
   "metadata": {},
   "outputs": [],
   "source": [
    "sars = pd.read_csv('variable/Global_variable_per-country/sars/sars_2003.csv')\n",
    "c = list(sars.Country.unique())\n",
    "death_nb = []\n",
    "for country in c:\n",
    "    v = list(sars[sars.Country == country]['Number of deaths'])[len(sars[sars.Country ==country]['Number of deaths'])-1]\n",
    "    death_nb.append(v)"
   ]
  },
  {
   "cell_type": "code",
   "execution_count": 128,
   "metadata": {},
   "outputs": [],
   "source": [
    "sars = pd.DataFrame({'Country':c, 'death_nb_sars': death_nb})\n",
    "df = df.merge(sars, how='left', left_on='Territory', right_on='Country')\n",
    "df.drop(['Country_y',  'Country'], axis=1, inplace=True)\n",
    "df[\"death_nb_sars\"] = df[\"death_nb_sars\"].fillna(0)"
   ]
  },
  {
   "cell_type": "markdown",
   "metadata": {},
   "source": [
    "### Age / density / wealth /sex \n",
    "\n",
    "See relevant indicators\n",
    "\n",
    "http://datatopics.worldbank.org/universal-health-coverage/coronavirus/\n",
    "\n"
   ]
  },
  {
   "cell_type": "markdown",
   "metadata": {},
   "source": [
    "https://datacatalog.worldbank.org/search?search_api_views_fulltext_op=AND&f%5B0%5D=field_collection_field%3A2026&sort_by=field_wbddh_modified_date\n",
    "\n",
    "https://data.worldbank.org/indicator/en.pop.dnst"
   ]
  },
  {
   "cell_type": "code",
   "execution_count": 129,
   "metadata": {},
   "outputs": [],
   "source": [
    "def wordbankdata(variable, tab):\n",
    "    data = pd.read_csv('variable/Global_variable_per-country/'+variable+'.csv')\n",
    "    data = data[['Country Code', '2018']]\n",
    "    tab = df.merge(data, how='left', left_on='Alpha-3 code', right_on='Country Code')\n",
    "    tab[variable] = tab['2018']\n",
    "    tab.drop(['2018', 'Country Code'], axis=True, inplace=True)\n",
    "    return(tab)\n",
    "\n",
    "variable = '%+65'"
   ]
  },
  {
   "cell_type": "code",
   "execution_count": 130,
   "metadata": {},
   "outputs": [],
   "source": [
    "df = wordbankdata(variable, df)"
   ]
  },
  {
   "cell_type": "code",
   "execution_count": 131,
   "metadata": {},
   "outputs": [],
   "source": [
    "variable = '15-64pop'\n",
    "df = wordbankdata(variable, df)\n",
    "df = wordbankdata('density', df)\n",
    "df = wordbankdata( 'sex', df)"
   ]
  },
  {
   "cell_type": "code",
   "execution_count": 132,
   "metadata": {},
   "outputs": [
    {
     "name": "stdout",
     "output_type": "stream",
     "text": [
      "23\n",
      "23\n",
      "12\n",
      "23\n"
     ]
    }
   ],
   "source": [
    "## not so many NaN cool !\n",
    "print(sum(df['%+65'].isnull()))\n",
    "print(sum(df['15-64pop'].isnull()))\n",
    "print(sum(df['density'].isnull()))\n",
    "print(sum(df['sex'].isnull()))"
   ]
  },
  {
   "cell_type": "code",
   "execution_count": 133,
   "metadata": {},
   "outputs": [],
   "source": [
    "rich = pd.read_csv('variable/Global_variable_per-country/income.csv')\n",
    "rich = rich[['Country Code', 'IncomeGroup']]\n",
    "df = df.merge(rich, how='left', left_on='Alpha-3 code', right_on='Country Code')\n",
    "df.drop(['Country Code'], axis=1, inplace=True)"
   ]
  },
  {
   "cell_type": "code",
   "execution_count": 134,
   "metadata": {},
   "outputs": [
    {
     "name": "stdout",
     "output_type": "stream",
     "text": [
      "5\n"
     ]
    }
   ],
   "source": [
    "print(sum(df['IncomeGroup'].isnull()))"
   ]
  },
  {
   "cell_type": "markdown",
   "metadata": {},
   "source": [
    "## Tourism"
   ]
  },
  {
   "cell_type": "code",
   "execution_count": 135,
   "metadata": {},
   "outputs": [],
   "source": [
    "tourism = pd.read_csv('variable/Global_variable_per-country/tourism.csv')"
   ]
  },
  {
   "cell_type": "markdown",
   "metadata": {},
   "source": [
    "tourism.count() / len(tourism)\n",
    "Lets take 2011."
   ]
  },
  {
   "cell_type": "code",
   "execution_count": 136,
   "metadata": {},
   "outputs": [],
   "source": [
    "tourism = tourism[['2011','Country Code']]\n",
    "df = df.merge(tourism, how='left', left_on='Alpha-3 code', right_on='Country Code')\n",
    "df.drop(['Country Code'], axis=1, inplace=True)"
   ]
  },
  {
   "cell_type": "code",
   "execution_count": 137,
   "metadata": {},
   "outputs": [],
   "source": [
    "df['tourism'] = df['2011']\n",
    "df.drop(['2011'], axis=1, inplace=True)"
   ]
  },
  {
   "cell_type": "markdown",
   "metadata": {},
   "source": [
    "## Economical factors"
   ]
  },
  {
   "cell_type": "markdown",
   "metadata": {},
   "source": [
    "https://www.kaggle.com/lewisduncan93/the-economic-freedom-index"
   ]
  },
  {
   "cell_type": "code",
   "execution_count": 138,
   "metadata": {},
   "outputs": [],
   "source": [
    "econ = pd.read_csv('variable/Global_variable_per-country/economic_freedom_index2019_data.csv',encoding='latin-1')"
   ]
  },
  {
   "cell_type": "code",
   "execution_count": 139,
   "metadata": {},
   "outputs": [],
   "source": [
    "econ.drop(['Region Rank','Tax Burden % of GDP','Trade Freedom','Financial Freedom','Property Rights','FDI Inflow (Millions)','Judical Effectiveness','Business Freedom','Tax Burden','Labor Freedom','Population (Millions)','Monetary Freedom'], axis=1, inplace=True)"
   ]
  },
  {
   "cell_type": "code",
   "execution_count": 140,
   "metadata": {},
   "outputs": [],
   "source": [
    "df = df.merge(econ, how='left', left_on='Country/Region', right_on='Country')"
   ]
  },
  {
   "cell_type": "code",
   "execution_count": 141,
   "metadata": {},
   "outputs": [],
   "source": [
    "df.drop(['Country'], axis=1, inplace=True)"
   ]
  },
  {
   "cell_type": "markdown",
   "metadata": {},
   "source": [
    "## Immunization factor"
   ]
  },
  {
   "cell_type": "markdown",
   "metadata": {},
   "source": [
    "https://www.kaggle.com/lsind18/who-immunization-coverage"
   ]
  },
  {
   "cell_type": "markdown",
   "metadata": {},
   "source": [
    "BCG.csv: the percentage of 1-year-olds who have received one dose of bacille Calmette-Guérin (BCG) vaccine in a given year.\n",
    "\n",
    "DTP3.csv: the percentage of 1-year-olds who have received three doses of the combined diphtheria, tetanus toxoid and pertussis vaccine in a given year.\n",
    "\n",
    "HepB3.csv: the percentage of 1-year-olds who have received three doses of hepatitis B vaccine in a given year.\n",
    "\n",
    "Hib3.csv: the percentage of 1-year-olds who have received three doses of Haemophilus influenzae type B vaccine in a given year.\n",
    "\n",
    "MCV1.csv: the percentage of children under 1 year of age who have received at least one dose of measles-containing vaccine in a given year. For countries recommending the first dose of measles vaccine in children over 12 months of age, the indicator is calculated as the proportion of children less than 12-23 months of age receiving one dose of measles-containing vaccine.\n",
    "\n",
    "MCV2.csv: the percentage of children who have received two doses of measles containing vaccine (MCV2) in a given year, according to the nationally recommended schedule.\n",
    "\n",
    "PAB.csv: the proportion of neonates in a given year that can be considered as having been protected against tetanus as a result of maternal immunization.\n",
    "\n",
    "PCV3.csv: the percentage of 1-year-olds who have received three doses of pneumococcal conjugate vaccine (PCV3) in a given year.\n",
    "\n",
    "Pol3.csv: the percentage of 1-year-olds who have received three doses of polio vaccine in a given year.\n",
    "\n",
    "ROTAC.csv: the percentage of surviving infants who received the final recommended dose of rotavirus vaccine, which can be either the 2nd or the 3rd dose depending on the vaccine in a given year.\n"
   ]
  },
  {
   "cell_type": "markdown",
   "metadata": {},
   "source": [
    "who-immunization-coverage folder"
   ]
  },
  {
   "cell_type": "markdown",
   "metadata": {},
   "source": [
    "We will take the year 2018 (most recent and less NaN values)."
   ]
  },
  {
   "cell_type": "code",
   "execution_count": 142,
   "metadata": {},
   "outputs": [
    {
     "name": "stdout",
     "output_type": "stream",
     "text": [
      "variable/Global_variable_per-country/who-immunization-coverage/ROTAC.csv\n",
      "o-im\n",
      "variable/Global_variable_per-country/who-immunization-coverage/HepB3.csv\n",
      "o-im\n",
      "variable/Global_variable_per-country/who-immunization-coverage/DTP3.csv\n",
      "o-im\n",
      "variable/Global_variable_per-country/who-immunization-coverage/MCV2.csv\n",
      "o-im\n",
      "variable/Global_variable_per-country/who-immunization-coverage/MCV1.csv\n",
      "o-im\n",
      "variable/Global_variable_per-country/who-immunization-coverage/Hib3.csv\n",
      "o-im\n",
      "variable/Global_variable_per-country/who-immunization-coverage/PAB.csv\n",
      "o-im\n",
      "variable/Global_variable_per-country/who-immunization-coverage/Pol3.csv\n",
      "o-im\n",
      "variable/Global_variable_per-country/who-immunization-coverage/PCV3.csv\n",
      "o-im\n",
      "variable/Global_variable_per-country/who-immunization-coverage/BCG.csv\n",
      "o-im\n"
     ]
    }
   ],
   "source": [
    "import glob\n",
    "\n",
    "for files in glob.glob(\"variable/Global_variable_per-country/who-immunization-coverage/*.csv\"):\n",
    "    data_immuno = pd.read_csv(files)\n",
    "    print(files)\n",
    "    data_immuno = data_immuno[[' 2018','Country']]\n",
    "    df = df.merge(data_immuno, how='left', left_on='Territory', right_on='Country')\n",
    "    name = files[39:43]\n",
    "    print(name)\n",
    "    df[name]= df[' 2018']\n",
    "    df.drop([' 2018','Country'], axis=1, inplace=True)\n",
    "    \n"
   ]
  },
  {
   "cell_type": "code",
   "execution_count": 143,
   "metadata": {},
   "outputs": [
    {
     "data": {
      "text/plain": [
       "Index(['Province/State', 'Country/Region', 'Territory', 'Population', 'Lat',\n",
       "       'Long', '1/22/20', '1/23/20', '1/24/20', '1/25/20',\n",
       "       ...\n",
       "       'Corporate Tax Rate (%)', 'Gov't Expenditure % of GDP ',\n",
       "       'GDP (Billions, PPP)', 'GDP Growth Rate (%)',\n",
       "       '5 Year GDP Growth Rate (%)', 'GDP per Capita (PPP)',\n",
       "       'Unemployment (%)', 'Inflation (%)', 'Public Debt (% of GDP)', 'o-im'],\n",
       "      dtype='object', length=129)"
      ]
     },
     "execution_count": 143,
     "metadata": {},
     "output_type": "execute_result"
    }
   ],
   "source": [
    "df.columns"
   ]
  },
  {
   "cell_type": "markdown",
   "metadata": {},
   "source": [
    "## Split by continent"
   ]
  },
  {
   "cell_type": "code",
   "execution_count": 144,
   "metadata": {},
   "outputs": [],
   "source": [
    "continent = pd.read_csv('variable/Global_variable_per-country/locations.csv')\n",
    "continent.drop(['location', 'population_year','population'], axis=1, inplace=True)\n",
    "df = df.merge(continent, how='left', left_on='Territory', right_on='countriesAndTerritories')\n",
    "df.drop(['countriesAndTerritories'], axis=1, inplace=True)"
   ]
  },
  {
   "cell_type": "code",
   "execution_count": 145,
   "metadata": {},
   "outputs": [],
   "source": [
    "index = df[df['continent'].isnull()].index\n",
    "variable = 'continent'\n",
    "df.at[index[0], variable] = 'Island'\n",
    "df.at[index[1], variable] = 'Island'\n",
    "df.at[index[2], variable] = 'South America'\n",
    "df.at[index[3], variable] = 'Europe'\n",
    "df.at[index[4], variable] = 'Asia'\n",
    "df.at[index[5], variable] = 'Africa'\n",
    "df.at[index[6], variable] = 'Island'\n",
    "df.at[index[7], variable] = 'Africa'\n",
    "df.at[index[8], variable] = 'Africa'\n",
    "df.at[index[9],variable] = 'Africa'\n",
    "df.at[index[10],variable] = 'Africa'\n",
    "df.at[index[11], variable] = 'South America'\n",
    "df.at[index[12], variable] = 'Africa'\n",
    "df.at[index[13], variable] = 'Island'\n",
    "df.at[index[14],variable] = 'Island'\n",
    "df.at[index[15],variable] = 'South America'\n",
    "df.at[index[16],variable] = 'Africa'\n",
    "df.at[index[17], variable] = 'South America'\n",
    "df.at[index[18], variable] = 'Island'\n",
    "df.at[index[19], variable] = 'Island'\n",
    "df.at[index[20], variable] = 'Island'\n",
    "df.at[index[21], variable] = 'Island'\n",
    "df.at[index[22],variable] = 'Island'\n",
    "df.at[index[23],variable] = 'Island'\n",
    "df.at[index[24],variable] = 'Island'\n",
    "df.at[index[25],variable] = 'Africa'\n",
    "df.at[index[26],variable] = 'Asia'\n",
    "df.at[index[27],variable] = 'Asia'\n",
    "df.at[index[28],variable] = 'Europe'\n",
    "df.at[index[29],variable] = 'Island'\n",
    "df.at[index[30],variable] = 'Island'\n",
    "df.at[index[31],variable] = 'Island'\n",
    "df.at[index[32], variable] = 'Africa'\n",
    "df.at[index[33],variable] = 'Europe'\n",
    "df.at[index[34],variable] = 'Island'\n",
    "df.at[index[35], variable] = 'Asia'\n",
    "df.at[index[36], variable] = 'Asia'\n",
    "df.at[index[37], variable] = 'Island'\n",
    "df.at[index[38], variable] = 'Island'\n",
    "df.at[index[39],variable] = 'Europe'\n",
    "df.at[index[40], variable] = 'Asia'\n",
    "df.at[index[41], variable] = 'Africa'\n",
    "df.at[index[42], variable] = 'Asia'\n",
    "df.at[index[43], variable] = 'Africa'\n",
    "df.at[index[44], variable] = 'Africa'\n",
    "df.at[index[45], variable] = 'South America'\n",
    "df.at[index[46], variable] = 'Asia'\n",
    "df.at[index[47], variable] = 'Island'\n",
    "df.at[index[48], variable] = 'Island'\n",
    "df.at[index[49],variable] = 'Europe'\n",
    "df.at[index[50], variable] = 'Island'\n",
    "df.at[index[51],variable] = 'Europe'\n",
    "df.at[index[52], variable] = 'North America'\n",
    "df.at[index[53], variable] = 'Asia'\n",
    "df.at[index[54], variable] = 'Asia'\n",
    "df.at[index[55], variable] = 'Island'\n",
    "df.at[index[56], variable] = 'Asia'\n",
    "df.at[index[57], variable] = 'Africa'\n",
    "df.at[index[58], variable] = 'Island'\n",
    "df.at[index[59], variable] = 'Island'\n",
    "df.at[index[60], variable] = 'Island'\n",
    "df.at[index[61], variable] = 'Island'\n",
    "df.at[index[62], variable] = 'Africa'\n",
    "df.at[index[63], variable] = 'Island'\n",
    "df.at[index[64], variable] = 'Island'\n",
    "df.at[index[65], variable] = 'Africa'\n",
    "df.at[index[66], variable] = 'Island'\n",
    "df.at[index[67], variable] = 'Island'\n",
    "df.at[index[68], variable] = 'Island'\n",
    "df.at[index[69], variable] = 'Island'\n",
    "df.at[index[70], variable] = 'Africa'\n",
    "df.at[index[71], variable] = 'Island'\n",
    "df.at[index[72], variable] = 'Island'\n",
    "df.at[index[73], variable] = 'Island'\n",
    "df.at[index[74], variable] = 'Island'\n",
    "df.at[index[75], variable] = 'Asia'\n",
    "df.at[index[76], variable] = 'Island'\n",
    "df.at[index[77], variable] = 'Island'\n",
    "df.at[index[78], variable] = 'Africa'\n",
    "df.at[index[79],variable] = 'Asia'\n",
    "df.at[index[80], variable] = 'Island'\n",
    "df.at[index[81],variable] = 'Asia'\n",
    "df.at[index[82], variable] = 'Island'\n",
    "df.at[index[83], variable] = 'Island'\n",
    "df.at[index[84],variable] = 'Asia'"
   ]
  },
  {
   "cell_type": "code",
   "execution_count": 146,
   "metadata": {},
   "outputs": [
    {
     "data": {
      "text/plain": [
       "array(['Asia', 'Europe', 'Africa', 'Island', 'South America', 'Oceania',\n",
       "       'North America'], dtype=object)"
      ]
     },
     "execution_count": 146,
     "metadata": {},
     "output_type": "execute_result"
    }
   ],
   "source": [
    "df.continent.unique()"
   ]
  },
  {
   "cell_type": "markdown",
   "metadata": {},
   "source": [
    "## Commorbidity / Risk Factors"
   ]
  },
  {
   "cell_type": "markdown",
   "metadata": {},
   "source": [
    "### Obesity \n",
    "\n",
    "https://www.kaggle.com/arttua/who-obesity-by-country-2016"
   ]
  },
  {
   "cell_type": "code",
   "execution_count": 147,
   "metadata": {},
   "outputs": [],
   "source": [
    "obesity = pd.read_csv('variable/Global_variable_per-country/obesity.csv')\n",
    "obesity['Country'] = obesity['Unnamed: 0']\n",
    "obesity.drop('Unnamed: 0', axis=1, inplace=True)"
   ]
  },
  {
   "cell_type": "code",
   "execution_count": 148,
   "metadata": {},
   "outputs": [],
   "source": [
    "obesity.rename(columns={'Both.sexes':'pop_obsesity',\n",
    "                        'Male':'Male_obesity','Female':'Female_obesity'}, inplace=True)"
   ]
  },
  {
   "cell_type": "code",
   "execution_count": 149,
   "metadata": {},
   "outputs": [],
   "source": [
    "df = df.merge(obesity, how='left', left_on='Country/Region', right_on='Country')\n",
    "df.drop(['Country'], axis=1, inplace=True)"
   ]
  },
  {
   "cell_type": "markdown",
   "metadata": {},
   "source": [
    "## Medical care\n",
    "\n",
    "### Hospital beds\n",
    "\n",
    "https://www.kaggle.com/hamzael1/hospital-beds-by-country"
   ]
  },
  {
   "cell_type": "code",
   "execution_count": 150,
   "metadata": {},
   "outputs": [],
   "source": [
    "beds = pd.read_csv('variable/Global_variable_per-country/beds.csv')"
   ]
  },
  {
   "cell_type": "raw",
   "metadata": {},
   "source": [
    "beds.count() / len(beds)\n",
    "\n",
    "We will take the year 2011."
   ]
  },
  {
   "cell_type": "code",
   "execution_count": 151,
   "metadata": {},
   "outputs": [],
   "source": [
    "beds= beds[['Country Code', '2011']]"
   ]
  },
  {
   "cell_type": "code",
   "execution_count": 152,
   "metadata": {},
   "outputs": [],
   "source": [
    "beds.rename(columns={'2011':'nb_beds'}, inplace=True)"
   ]
  },
  {
   "cell_type": "code",
   "execution_count": 153,
   "metadata": {},
   "outputs": [],
   "source": [
    "df = df.merge(beds, how='left', left_on='Alpha-3 code', right_on='Country Code')\n",
    "df.drop(['Country Code'], axis=1, inplace=True)"
   ]
  },
  {
   "cell_type": "code",
   "execution_count": 155,
   "metadata": {},
   "outputs": [
    {
     "data": {
      "text/plain": [
       "(274, 134)"
      ]
     },
     "execution_count": 155,
     "metadata": {},
     "output_type": "execute_result"
    }
   ],
   "source": [
    "df.shape"
   ]
  },
  {
   "cell_type": "code",
   "execution_count": null,
   "metadata": {},
   "outputs": [],
   "source": []
  },
  {
   "cell_type": "code",
   "execution_count": null,
   "metadata": {},
   "outputs": [],
   "source": []
  },
  {
   "cell_type": "markdown",
   "metadata": {},
   "source": [
    "### Health Systems - WHO \n"
   ]
  },
  {
   "cell_type": "code",
   "execution_count": 171,
   "metadata": {},
   "outputs": [],
   "source": [
    "hs = pd.read_csv('variable/Global_variable_per-country/Health_systems.csv')\n",
    "hs.drop(['Health_exp_pct_GDP_2016','Health_exp_public_pct_2016','Health_exp_out_of_pocket_pct_2016','Health_exp_per_capita_USD_2016','per_capita_exp_PPP_2016','External_health_exp_pct_2016','Completeness_of_birth_reg_2009-18','Completeness_of_death_reg_2008-16'], axis=1, inplace=True)"
   ]
  },
  {
   "cell_type": "code",
   "execution_count": 172,
   "metadata": {},
   "outputs": [],
   "source": [
    "hs.drop(['Province_State','World_Bank_Name'], axis=1, inplace=True)"
   ]
  },
  {
   "cell_type": "code",
   "execution_count": 173,
   "metadata": {},
   "outputs": [
    {
     "data": {
      "text/html": [
       "<div>\n",
       "<style scoped>\n",
       "    .dataframe tbody tr th:only-of-type {\n",
       "        vertical-align: middle;\n",
       "    }\n",
       "\n",
       "    .dataframe tbody tr th {\n",
       "        vertical-align: top;\n",
       "    }\n",
       "\n",
       "    .dataframe thead th {\n",
       "        text-align: right;\n",
       "    }\n",
       "</style>\n",
       "<table border=\"1\" class=\"dataframe\">\n",
       "  <thead>\n",
       "    <tr style=\"text-align: right;\">\n",
       "      <th></th>\n",
       "      <th>Country_Region</th>\n",
       "      <th>Physicians_per_1000_2009-18</th>\n",
       "      <th>Nurse_midwife_per_1000_2009-18</th>\n",
       "      <th>Specialist_surgical_per_1000_2008-18</th>\n",
       "    </tr>\n",
       "  </thead>\n",
       "  <tbody>\n",
       "    <tr>\n",
       "      <th>0</th>\n",
       "      <td>Afghanistan</td>\n",
       "      <td>0.3</td>\n",
       "      <td>0.3</td>\n",
       "      <td>0.0</td>\n",
       "    </tr>\n",
       "    <tr>\n",
       "      <th>1</th>\n",
       "      <td>Albania</td>\n",
       "      <td>1.2</td>\n",
       "      <td>3.6</td>\n",
       "      <td>11.6</td>\n",
       "    </tr>\n",
       "    <tr>\n",
       "      <th>2</th>\n",
       "      <td>Algeria</td>\n",
       "      <td>1.8</td>\n",
       "      <td>2.2</td>\n",
       "      <td>12.1</td>\n",
       "    </tr>\n",
       "    <tr>\n",
       "      <th>3</th>\n",
       "      <td>Andorra</td>\n",
       "      <td>3.3</td>\n",
       "      <td>4.0</td>\n",
       "      <td>83.1</td>\n",
       "    </tr>\n",
       "    <tr>\n",
       "      <th>4</th>\n",
       "      <td>Angola</td>\n",
       "      <td>0.2</td>\n",
       "      <td>1.3</td>\n",
       "      <td>NaN</td>\n",
       "    </tr>\n",
       "    <tr>\n",
       "      <th>5</th>\n",
       "      <td>Antigua and Barbuda</td>\n",
       "      <td>2.8</td>\n",
       "      <td>3.1</td>\n",
       "      <td>14.0</td>\n",
       "    </tr>\n",
       "    <tr>\n",
       "      <th>6</th>\n",
       "      <td>Argentina</td>\n",
       "      <td>4.0</td>\n",
       "      <td>2.6</td>\n",
       "      <td>50.1</td>\n",
       "    </tr>\n",
       "    <tr>\n",
       "      <th>7</th>\n",
       "      <td>Armenia</td>\n",
       "      <td>2.9</td>\n",
       "      <td>5.6</td>\n",
       "      <td>86.7</td>\n",
       "    </tr>\n",
       "    <tr>\n",
       "      <th>8</th>\n",
       "      <td>Australia</td>\n",
       "      <td>3.6</td>\n",
       "      <td>12.7</td>\n",
       "      <td>45.1</td>\n",
       "    </tr>\n",
       "    <tr>\n",
       "      <th>9</th>\n",
       "      <td>Austria</td>\n",
       "      <td>5.1</td>\n",
       "      <td>8.2</td>\n",
       "      <td>109.9</td>\n",
       "    </tr>\n",
       "    <tr>\n",
       "      <th>10</th>\n",
       "      <td>Azerbaijan</td>\n",
       "      <td>3.4</td>\n",
       "      <td>7.0</td>\n",
       "      <td>67.6</td>\n",
       "    </tr>\n",
       "    <tr>\n",
       "      <th>11</th>\n",
       "      <td>Bahamas</td>\n",
       "      <td>1.9</td>\n",
       "      <td>3.1</td>\n",
       "      <td>NaN</td>\n",
       "    </tr>\n",
       "    <tr>\n",
       "      <th>12</th>\n",
       "      <td>Bahrain</td>\n",
       "      <td>0.9</td>\n",
       "      <td>2.5</td>\n",
       "      <td>14.4</td>\n",
       "    </tr>\n",
       "    <tr>\n",
       "      <th>13</th>\n",
       "      <td>Bangladesh</td>\n",
       "      <td>0.5</td>\n",
       "      <td>0.3</td>\n",
       "      <td>2.9</td>\n",
       "    </tr>\n",
       "    <tr>\n",
       "      <th>14</th>\n",
       "      <td>Barbados</td>\n",
       "      <td>2.5</td>\n",
       "      <td>6.0</td>\n",
       "      <td>17.2</td>\n",
       "    </tr>\n",
       "    <tr>\n",
       "      <th>15</th>\n",
       "      <td>Belarus</td>\n",
       "      <td>4.1</td>\n",
       "      <td>11.4</td>\n",
       "      <td>124.2</td>\n",
       "    </tr>\n",
       "    <tr>\n",
       "      <th>16</th>\n",
       "      <td>Belgium</td>\n",
       "      <td>3.3</td>\n",
       "      <td>11.1</td>\n",
       "      <td>89.8</td>\n",
       "    </tr>\n",
       "    <tr>\n",
       "      <th>17</th>\n",
       "      <td>Belize</td>\n",
       "      <td>1.1</td>\n",
       "      <td>1.7</td>\n",
       "      <td>10.5</td>\n",
       "    </tr>\n",
       "    <tr>\n",
       "      <th>18</th>\n",
       "      <td>Benin</td>\n",
       "      <td>0.2</td>\n",
       "      <td>0.6</td>\n",
       "      <td>1.9</td>\n",
       "    </tr>\n",
       "    <tr>\n",
       "      <th>19</th>\n",
       "      <td>Bhutan</td>\n",
       "      <td>0.4</td>\n",
       "      <td>1.5</td>\n",
       "      <td>2.9</td>\n",
       "    </tr>\n",
       "    <tr>\n",
       "      <th>20</th>\n",
       "      <td>Bolivia</td>\n",
       "      <td>1.6</td>\n",
       "      <td>0.7</td>\n",
       "      <td>33.9</td>\n",
       "    </tr>\n",
       "    <tr>\n",
       "      <th>21</th>\n",
       "      <td>Bosnia and Herzegovina</td>\n",
       "      <td>2.0</td>\n",
       "      <td>6.3</td>\n",
       "      <td>32.3</td>\n",
       "    </tr>\n",
       "    <tr>\n",
       "      <th>22</th>\n",
       "      <td>Botswana</td>\n",
       "      <td>0.4</td>\n",
       "      <td>3.3</td>\n",
       "      <td>3.6</td>\n",
       "    </tr>\n",
       "    <tr>\n",
       "      <th>23</th>\n",
       "      <td>Brazil</td>\n",
       "      <td>2.1</td>\n",
       "      <td>9.7</td>\n",
       "      <td>55.5</td>\n",
       "    </tr>\n",
       "    <tr>\n",
       "      <th>24</th>\n",
       "      <td>Brunei</td>\n",
       "      <td>1.8</td>\n",
       "      <td>6.6</td>\n",
       "      <td>NaN</td>\n",
       "    </tr>\n",
       "    <tr>\n",
       "      <th>25</th>\n",
       "      <td>Bulgaria</td>\n",
       "      <td>4.0</td>\n",
       "      <td>5.3</td>\n",
       "      <td>112.7</td>\n",
       "    </tr>\n",
       "    <tr>\n",
       "      <th>26</th>\n",
       "      <td>Burkina Faso</td>\n",
       "      <td>0.1</td>\n",
       "      <td>0.6</td>\n",
       "      <td>0.6</td>\n",
       "    </tr>\n",
       "    <tr>\n",
       "      <th>27</th>\n",
       "      <td>Burundi</td>\n",
       "      <td>0.1</td>\n",
       "      <td>0.7</td>\n",
       "      <td>0.4</td>\n",
       "    </tr>\n",
       "    <tr>\n",
       "      <th>28</th>\n",
       "      <td>Cabo Verde</td>\n",
       "      <td>0.8</td>\n",
       "      <td>1.2</td>\n",
       "      <td>16.0</td>\n",
       "    </tr>\n",
       "    <tr>\n",
       "      <th>29</th>\n",
       "      <td>Cambodia</td>\n",
       "      <td>0.2</td>\n",
       "      <td>1.0</td>\n",
       "      <td>4.2</td>\n",
       "    </tr>\n",
       "    <tr>\n",
       "      <th>...</th>\n",
       "      <td>...</td>\n",
       "      <td>...</td>\n",
       "      <td>...</td>\n",
       "      <td>...</td>\n",
       "    </tr>\n",
       "    <tr>\n",
       "      <th>180</th>\n",
       "      <td>Sweden</td>\n",
       "      <td>5.4</td>\n",
       "      <td>11.5</td>\n",
       "      <td>113.1</td>\n",
       "    </tr>\n",
       "    <tr>\n",
       "      <th>181</th>\n",
       "      <td>Switzerland</td>\n",
       "      <td>4.2</td>\n",
       "      <td>17.3</td>\n",
       "      <td>94.8</td>\n",
       "    </tr>\n",
       "    <tr>\n",
       "      <th>182</th>\n",
       "      <td>Syria</td>\n",
       "      <td>1.2</td>\n",
       "      <td>1.5</td>\n",
       "      <td>NaN</td>\n",
       "    </tr>\n",
       "    <tr>\n",
       "      <th>183</th>\n",
       "      <td>NaN</td>\n",
       "      <td>1.7</td>\n",
       "      <td>5.2</td>\n",
       "      <td>41.7</td>\n",
       "    </tr>\n",
       "    <tr>\n",
       "      <th>184</th>\n",
       "      <td>Tanzania</td>\n",
       "      <td>0.0</td>\n",
       "      <td>0.4</td>\n",
       "      <td>0.5</td>\n",
       "    </tr>\n",
       "    <tr>\n",
       "      <th>185</th>\n",
       "      <td>Thailand</td>\n",
       "      <td>0.8</td>\n",
       "      <td>3.0</td>\n",
       "      <td>13.1</td>\n",
       "    </tr>\n",
       "    <tr>\n",
       "      <th>186</th>\n",
       "      <td>Timor-Leste</td>\n",
       "      <td>0.7</td>\n",
       "      <td>1.7</td>\n",
       "      <td>0.9</td>\n",
       "    </tr>\n",
       "    <tr>\n",
       "      <th>187</th>\n",
       "      <td>Togo</td>\n",
       "      <td>0.0</td>\n",
       "      <td>0.3</td>\n",
       "      <td>0.5</td>\n",
       "    </tr>\n",
       "    <tr>\n",
       "      <th>188</th>\n",
       "      <td>NaN</td>\n",
       "      <td>0.5</td>\n",
       "      <td>3.9</td>\n",
       "      <td>14.0</td>\n",
       "    </tr>\n",
       "    <tr>\n",
       "      <th>189</th>\n",
       "      <td>Trinidad and Tobago</td>\n",
       "      <td>2.7</td>\n",
       "      <td>3.5</td>\n",
       "      <td>30.9</td>\n",
       "    </tr>\n",
       "    <tr>\n",
       "      <th>190</th>\n",
       "      <td>Tunisia</td>\n",
       "      <td>1.3</td>\n",
       "      <td>2.6</td>\n",
       "      <td>11.5</td>\n",
       "    </tr>\n",
       "    <tr>\n",
       "      <th>191</th>\n",
       "      <td>Turkey</td>\n",
       "      <td>1.8</td>\n",
       "      <td>2.6</td>\n",
       "      <td>47.6</td>\n",
       "    </tr>\n",
       "    <tr>\n",
       "      <th>192</th>\n",
       "      <td>NaN</td>\n",
       "      <td>2.2</td>\n",
       "      <td>4.6</td>\n",
       "      <td>58.8</td>\n",
       "    </tr>\n",
       "    <tr>\n",
       "      <th>193</th>\n",
       "      <td>NaN</td>\n",
       "      <td>NaN</td>\n",
       "      <td>NaN</td>\n",
       "      <td>NaN</td>\n",
       "    </tr>\n",
       "    <tr>\n",
       "      <th>194</th>\n",
       "      <td>NaN</td>\n",
       "      <td>0.9</td>\n",
       "      <td>3.8</td>\n",
       "      <td>26.1</td>\n",
       "    </tr>\n",
       "    <tr>\n",
       "      <th>195</th>\n",
       "      <td>Uganda</td>\n",
       "      <td>0.1</td>\n",
       "      <td>0.6</td>\n",
       "      <td>1.1</td>\n",
       "    </tr>\n",
       "    <tr>\n",
       "      <th>196</th>\n",
       "      <td>Ukraine</td>\n",
       "      <td>3.0</td>\n",
       "      <td>7.1</td>\n",
       "      <td>86.6</td>\n",
       "    </tr>\n",
       "    <tr>\n",
       "      <th>197</th>\n",
       "      <td>United Arab Emirates</td>\n",
       "      <td>2.4</td>\n",
       "      <td>5.6</td>\n",
       "      <td>NaN</td>\n",
       "    </tr>\n",
       "    <tr>\n",
       "      <th>198</th>\n",
       "      <td>United Kingdom</td>\n",
       "      <td>2.8</td>\n",
       "      <td>8.3</td>\n",
       "      <td>133.3</td>\n",
       "    </tr>\n",
       "    <tr>\n",
       "      <th>199</th>\n",
       "      <td>US</td>\n",
       "      <td>2.6</td>\n",
       "      <td>8.6</td>\n",
       "      <td>54.7</td>\n",
       "    </tr>\n",
       "    <tr>\n",
       "      <th>200</th>\n",
       "      <td>Uruguay</td>\n",
       "      <td>5.0</td>\n",
       "      <td>1.9</td>\n",
       "      <td>38.9</td>\n",
       "    </tr>\n",
       "    <tr>\n",
       "      <th>201</th>\n",
       "      <td>Uzbekistan</td>\n",
       "      <td>2.4</td>\n",
       "      <td>12.1</td>\n",
       "      <td>50.4</td>\n",
       "    </tr>\n",
       "    <tr>\n",
       "      <th>202</th>\n",
       "      <td>NaN</td>\n",
       "      <td>0.2</td>\n",
       "      <td>1.4</td>\n",
       "      <td>3.2</td>\n",
       "    </tr>\n",
       "    <tr>\n",
       "      <th>203</th>\n",
       "      <td>Venezuela</td>\n",
       "      <td>NaN</td>\n",
       "      <td>NaN</td>\n",
       "      <td>18.1</td>\n",
       "    </tr>\n",
       "    <tr>\n",
       "      <th>204</th>\n",
       "      <td>Vietnam</td>\n",
       "      <td>0.8</td>\n",
       "      <td>1.4</td>\n",
       "      <td>NaN</td>\n",
       "    </tr>\n",
       "    <tr>\n",
       "      <th>205</th>\n",
       "      <td>US</td>\n",
       "      <td>NaN</td>\n",
       "      <td>NaN</td>\n",
       "      <td>NaN</td>\n",
       "    </tr>\n",
       "    <tr>\n",
       "      <th>206</th>\n",
       "      <td>NaN</td>\n",
       "      <td>NaN</td>\n",
       "      <td>NaN</td>\n",
       "      <td>NaN</td>\n",
       "    </tr>\n",
       "    <tr>\n",
       "      <th>207</th>\n",
       "      <td>NaN</td>\n",
       "      <td>0.3</td>\n",
       "      <td>0.7</td>\n",
       "      <td>0.8</td>\n",
       "    </tr>\n",
       "    <tr>\n",
       "      <th>208</th>\n",
       "      <td>Zambia</td>\n",
       "      <td>0.1</td>\n",
       "      <td>0.9</td>\n",
       "      <td>1.5</td>\n",
       "    </tr>\n",
       "    <tr>\n",
       "      <th>209</th>\n",
       "      <td>Zimbabwe</td>\n",
       "      <td>0.1</td>\n",
       "      <td>1.2</td>\n",
       "      <td>1.6</td>\n",
       "    </tr>\n",
       "  </tbody>\n",
       "</table>\n",
       "<p>210 rows × 4 columns</p>\n",
       "</div>"
      ],
      "text/plain": [
       "             Country_Region  Physicians_per_1000_2009-18  \\\n",
       "0               Afghanistan                          0.3   \n",
       "1                   Albania                          1.2   \n",
       "2                   Algeria                          1.8   \n",
       "3                   Andorra                          3.3   \n",
       "4                    Angola                          0.2   \n",
       "5       Antigua and Barbuda                          2.8   \n",
       "6                 Argentina                          4.0   \n",
       "7                   Armenia                          2.9   \n",
       "8                 Australia                          3.6   \n",
       "9                   Austria                          5.1   \n",
       "10               Azerbaijan                          3.4   \n",
       "11                  Bahamas                          1.9   \n",
       "12                  Bahrain                          0.9   \n",
       "13               Bangladesh                          0.5   \n",
       "14                 Barbados                          2.5   \n",
       "15                  Belarus                          4.1   \n",
       "16                  Belgium                          3.3   \n",
       "17                   Belize                          1.1   \n",
       "18                    Benin                          0.2   \n",
       "19                   Bhutan                          0.4   \n",
       "20                  Bolivia                          1.6   \n",
       "21   Bosnia and Herzegovina                          2.0   \n",
       "22                 Botswana                          0.4   \n",
       "23                   Brazil                          2.1   \n",
       "24                   Brunei                          1.8   \n",
       "25                 Bulgaria                          4.0   \n",
       "26             Burkina Faso                          0.1   \n",
       "27                  Burundi                          0.1   \n",
       "28               Cabo Verde                          0.8   \n",
       "29                 Cambodia                          0.2   \n",
       "..                      ...                          ...   \n",
       "180                  Sweden                          5.4   \n",
       "181             Switzerland                          4.2   \n",
       "182                   Syria                          1.2   \n",
       "183                     NaN                          1.7   \n",
       "184                Tanzania                          0.0   \n",
       "185                Thailand                          0.8   \n",
       "186             Timor-Leste                          0.7   \n",
       "187                    Togo                          0.0   \n",
       "188                     NaN                          0.5   \n",
       "189     Trinidad and Tobago                          2.7   \n",
       "190                 Tunisia                          1.3   \n",
       "191                  Turkey                          1.8   \n",
       "192                     NaN                          2.2   \n",
       "193                     NaN                          NaN   \n",
       "194                     NaN                          0.9   \n",
       "195                  Uganda                          0.1   \n",
       "196                 Ukraine                          3.0   \n",
       "197    United Arab Emirates                          2.4   \n",
       "198          United Kingdom                          2.8   \n",
       "199                      US                          2.6   \n",
       "200                 Uruguay                          5.0   \n",
       "201              Uzbekistan                          2.4   \n",
       "202                     NaN                          0.2   \n",
       "203               Venezuela                          NaN   \n",
       "204                 Vietnam                          0.8   \n",
       "205                      US                          NaN   \n",
       "206                     NaN                          NaN   \n",
       "207                     NaN                          0.3   \n",
       "208                  Zambia                          0.1   \n",
       "209                Zimbabwe                          0.1   \n",
       "\n",
       "     Nurse_midwife_per_1000_2009-18  Specialist_surgical_per_1000_2008-18  \n",
       "0                               0.3                                   0.0  \n",
       "1                               3.6                                  11.6  \n",
       "2                               2.2                                  12.1  \n",
       "3                               4.0                                  83.1  \n",
       "4                               1.3                                   NaN  \n",
       "5                               3.1                                  14.0  \n",
       "6                               2.6                                  50.1  \n",
       "7                               5.6                                  86.7  \n",
       "8                              12.7                                  45.1  \n",
       "9                               8.2                                 109.9  \n",
       "10                              7.0                                  67.6  \n",
       "11                              3.1                                   NaN  \n",
       "12                              2.5                                  14.4  \n",
       "13                              0.3                                   2.9  \n",
       "14                              6.0                                  17.2  \n",
       "15                             11.4                                 124.2  \n",
       "16                             11.1                                  89.8  \n",
       "17                              1.7                                  10.5  \n",
       "18                              0.6                                   1.9  \n",
       "19                              1.5                                   2.9  \n",
       "20                              0.7                                  33.9  \n",
       "21                              6.3                                  32.3  \n",
       "22                              3.3                                   3.6  \n",
       "23                              9.7                                  55.5  \n",
       "24                              6.6                                   NaN  \n",
       "25                              5.3                                 112.7  \n",
       "26                              0.6                                   0.6  \n",
       "27                              0.7                                   0.4  \n",
       "28                              1.2                                  16.0  \n",
       "29                              1.0                                   4.2  \n",
       "..                              ...                                   ...  \n",
       "180                            11.5                                 113.1  \n",
       "181                            17.3                                  94.8  \n",
       "182                             1.5                                   NaN  \n",
       "183                             5.2                                  41.7  \n",
       "184                             0.4                                   0.5  \n",
       "185                             3.0                                  13.1  \n",
       "186                             1.7                                   0.9  \n",
       "187                             0.3                                   0.5  \n",
       "188                             3.9                                  14.0  \n",
       "189                             3.5                                  30.9  \n",
       "190                             2.6                                  11.5  \n",
       "191                             2.6                                  47.6  \n",
       "192                             4.6                                  58.8  \n",
       "193                             NaN                                   NaN  \n",
       "194                             3.8                                  26.1  \n",
       "195                             0.6                                   1.1  \n",
       "196                             7.1                                  86.6  \n",
       "197                             5.6                                   NaN  \n",
       "198                             8.3                                 133.3  \n",
       "199                             8.6                                  54.7  \n",
       "200                             1.9                                  38.9  \n",
       "201                            12.1                                  50.4  \n",
       "202                             1.4                                   3.2  \n",
       "203                             NaN                                  18.1  \n",
       "204                             1.4                                   NaN  \n",
       "205                             NaN                                   NaN  \n",
       "206                             NaN                                   NaN  \n",
       "207                             0.7                                   0.8  \n",
       "208                             0.9                                   1.5  \n",
       "209                             1.2                                   1.6  \n",
       "\n",
       "[210 rows x 4 columns]"
      ]
     },
     "execution_count": 173,
     "metadata": {},
     "output_type": "execute_result"
    }
   ],
   "source": [
    "hs"
   ]
  },
  {
   "cell_type": "raw",
   "metadata": {},
   "source": [
    "hs.head()"
   ]
  },
  {
   "cell_type": "raw",
   "metadata": {},
   "source": [
    "hs.Country_Region"
   ]
  },
  {
   "cell_type": "code",
   "execution_count": null,
   "metadata": {},
   "outputs": [],
   "source": []
  },
  {
   "cell_type": "raw",
   "metadata": {},
   "source": [
    "df.merge(hs, how='left', left_on='Territory', right_on='Country_Region')"
   ]
  },
  {
   "cell_type": "code",
   "execution_count": null,
   "metadata": {},
   "outputs": [],
   "source": []
  },
  {
   "cell_type": "markdown",
   "metadata": {},
   "source": [
    "### Pollution ?\n",
    "https://www.kaggle.com/kweinmeister/pm25-global-air-pollution-20102017"
   ]
  },
  {
   "cell_type": "code",
   "execution_count": 107,
   "metadata": {},
   "outputs": [
    {
     "data": {
      "text/plain": [
       "(420, 137)"
      ]
     },
     "execution_count": 107,
     "metadata": {},
     "output_type": "execute_result"
    }
   ],
   "source": [
    "df.shape"
   ]
  },
  {
   "cell_type": "code",
   "execution_count": 179,
   "metadata": {},
   "outputs": [
    {
     "data": {
      "text/plain": [
       "(274, 134)"
      ]
     },
     "execution_count": 179,
     "metadata": {},
     "output_type": "execute_result"
    }
   ],
   "source": [
    "df.shape"
   ]
  },
  {
   "cell_type": "code",
   "execution_count": null,
   "metadata": {},
   "outputs": [],
   "source": []
  },
  {
   "cell_type": "code",
   "execution_count": 73,
   "metadata": {},
   "outputs": [],
   "source": [
    "df.to_csv('Global_variable_per_country.csv',index=False)"
   ]
  },
  {
   "cell_type": "code",
   "execution_count": null,
   "metadata": {},
   "outputs": [],
   "source": []
  },
  {
   "cell_type": "code",
   "execution_count": null,
   "metadata": {},
   "outputs": [],
   "source": []
  },
  {
   "cell_type": "code",
   "execution_count": null,
   "metadata": {},
   "outputs": [],
   "source": []
  }
 ],
 "metadata": {
  "kernelspec": {
   "display_name": "Python 3",
   "language": "python",
   "name": "python3"
  },
  "language_info": {
   "codemirror_mode": {
    "name": "ipython",
    "version": 3
   },
   "file_extension": ".py",
   "mimetype": "text/x-python",
   "name": "python",
   "nbconvert_exporter": "python",
   "pygments_lexer": "ipython3",
   "version": "3.7.0"
  }
 },
 "nbformat": 4,
 "nbformat_minor": 2
}
